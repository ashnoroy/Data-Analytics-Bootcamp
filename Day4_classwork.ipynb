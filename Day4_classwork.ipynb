{
 "cells": [
  {
   "cell_type": "code",
   "execution_count": 1,
   "id": "6a59a30b-b5dc-4752-8f0f-23b54b1f1854",
   "metadata": {},
   "outputs": [
    {
     "name": "stdout",
     "output_type": "stream",
     "text": [
      "Sum of first 15 natural numbers is: 120\n"
     ]
    }
   ],
   "source": [
    "#find sum of first fifteen natural number\n",
    "def sum_first_15_natural_numbers():\n",
    "    total=0\n",
    "    for i in range(1, 16):\n",
    "        total+=i\n",
    "    return total\n",
    "result = sum_first_15_natural_numbers()\n",
    "print(\"Sum of first 15 natural numbers is:\", result)"
   ]
  },
  {
   "cell_type": "code",
   "execution_count": 2,
   "id": "d578a76b-2a52-4fad-b7d7-bebf27779a01",
   "metadata": {},
   "outputs": [
    {
     "name": "stdin",
     "output_type": "stream",
     "text": [
      "Enter principal:  23\n",
      "Enter rate:  5\n",
      "Enter time:  8\n"
     ]
    },
    {
     "name": "stdout",
     "output_type": "stream",
     "text": [
      "Simple Interest: 9.2\n"
     ]
    }
   ],
   "source": [
    "#simple interest code\n",
    "def simple_interest(p, r, t):\n",
    "    si = (p * r * t) / 100\n",
    "    print(\"Simple Interest:\", si)\n",
    "p = float(input(\"Enter principal: \"))\n",
    "r = float(input(\"Enter rate: \"))\n",
    "t = float(input(\"Enter time: \"))\n",
    "simple_interest(p, r, t)"
   ]
  },
  {
   "cell_type": "code",
   "execution_count": 3,
   "id": "103e7599-00dd-4c01-a0c2-b936717bccaa",
   "metadata": {},
   "outputs": [
    {
     "name": "stdout",
     "output_type": "stream",
     "text": [
      "Sum of first 15 natural numbers is: 120\n"
     ]
    }
   ],
   "source": [
    "#find sum of first fifteen natural number\n",
    "def sum_first_15_natural_numbers():\n",
    "    total=0\n",
    "    for i in range(1, 16):\n",
    "        total+=i\n",
    "    return total\n",
    "result = sum_first_15_natural_numbers()\n",
    "print(\"Sum of first 15 natural numbers is:\", result)"
   ]
  },
  {
   "cell_type": "code",
   "execution_count": 4,
   "id": "c3df281d-da10-447e-860f-fdaad81e80bb",
   "metadata": {},
   "outputs": [
    {
     "name": "stdout",
     "output_type": "stream",
     "text": [
      "Sum of all odd numbers between 1 to 50 is: 625\n"
     ]
    }
   ],
   "source": [
    "#sum of all odd numbers between 1 to 50\n",
    "def sum_odd_numbers_1_to_50():\n",
    "    total = 0\n",
    "    for i in range(1, 51, 2):\n",
    "        total += i\n",
    "    print(\"Sum of all odd numbers between 1 to 50 is:\", total)\n",
    "sum_odd_numbers_1_to_50()"
   ]
  },
  {
   "cell_type": "code",
   "execution_count": 5,
   "id": "9519a204-2c21-41ca-b204-b03834d91c68",
   "metadata": {},
   "outputs": [
    {
     "name": "stdin",
     "output_type": "stream",
     "text": [
      "Enter a string to reverse:  roy\n"
     ]
    },
    {
     "name": "stdout",
     "output_type": "stream",
     "text": [
      "Reversed string: yor\n"
     ]
    }
   ],
   "source": [
    "def reverse_string(s):\n",
    "    return s[::-1]\n",
    "user_input = input(\"Enter a string to reverse: \")\n",
    "reversed_str = reverse_string(user_input)\n",
    "print(\"Reversed string:\", reversed_str)"
   ]
  },
  {
   "cell_type": "code",
   "execution_count": 6,
   "id": "87a65261-7cd1-495d-b44a-2c76d042d802",
   "metadata": {},
   "outputs": [
    {
     "name": "stdin",
     "output_type": "stream",
     "text": [
      "Enter first number:  2\n",
      "Enter second number:  2\n"
     ]
    },
    {
     "name": "stdout",
     "output_type": "stream",
     "text": [
      "Sum: 4\n"
     ]
    }
   ],
   "source": [
    "def add(a, b):\n",
    "    return a+b\n",
    "i=int(input(\"Enter first number: \"))\n",
    "j=int(input(\"Enter second number: \"))\n",
    "result=add(i,j)\n",
    "print(\"Sum:\",result)"
   ]
  },
  {
   "cell_type": "code",
   "execution_count": 7,
   "id": "1ef38dd2-5558-4db9-bc7f-af19f141c288",
   "metadata": {},
   "outputs": [
    {
     "name": "stdin",
     "output_type": "stream",
     "text": [
      "Enter a number:  3\n"
     ]
    },
    {
     "name": "stdout",
     "output_type": "stream",
     "text": [
      "3 is odd.\n"
     ]
    }
   ],
   "source": [
    "def even(number):\n",
    "    return number%2==0\n",
    "i=int(input(\"Enter a number: \"))\n",
    "if even(i):\n",
    "    print(f\"{i} is even.\")\n",
    "else:\n",
    "    print(f\"{i} is odd.\")"
   ]
  },
  {
   "cell_type": "code",
   "execution_count": 9,
   "id": "fa787640-cfe8-4298-9e5e-66ec20f40b7c",
   "metadata": {},
   "outputs": [
    {
     "name": "stdin",
     "output_type": "stream",
     "text": [
      "Enter a number to find its factorial:  2\n"
     ]
    },
    {
     "name": "stdout",
     "output_type": "stream",
     "text": [
      "Factorial of 2 is 2\n"
     ]
    }
   ],
   "source": [
    "def factorial(n):\n",
    "    if n==0 or n==1:\n",
    "        return 1\n",
    "    else:\n",
    "        return n*factorial(n-1)\n",
    "i=int(input(\"Enter a number to find its factorial: \"))\n",
    "if i<0:\n",
    "    print(\"Factorial is not defined for negative numbers.\")\n",
    "else:\n",
    "    print(f\"Factorial of {i} is {factorial(i)}\")"
   ]
  },
  {
   "cell_type": "code",
   "execution_count": 18,
   "id": "9387ad7e-8c4b-4320-85c3-691eeb5c058c",
   "metadata": {},
   "outputs": [
    {
     "name": "stdin",
     "output_type": "stream",
     "text": [
      "Enter a string:  g\n"
     ]
    },
    {
     "name": "stdout",
     "output_type": "stream",
     "text": [
      "Number of vowels: 0\n"
     ]
    }
   ],
   "source": [
    "def count(s):\n",
    "    vowels=\"aeiouAEIOU\"\n",
    "    count=0\n",
    "    for char in s:\n",
    "        if char in vowels:\n",
    "            count+=1\n",
    "    return count\n",
    "user_input=input(\"Enter a string: \")\n",
    "vowel=count(user_input)\n",
    "print(\"Number of vowels:\",vowel)"
   ]
  },
  {
   "cell_type": "code",
   "execution_count": 19,
   "id": "1929ac0d-a4f5-4a48-89d4-90af6b0a283b",
   "metadata": {},
   "outputs": [
    {
     "name": "stdin",
     "output_type": "stream",
     "text": [
      "Enter number of terms:  5\n"
     ]
    },
    {
     "name": "stdout",
     "output_type": "stream",
     "text": [
      "Fibonacci series: [0, 1, 1, 2, 3]\n"
     ]
    }
   ],
   "source": [
    "def fibonacci(n):\n",
    "    series=[]\n",
    "    a, b=0, 1\n",
    "    for _ in range(n):\n",
    "        series.append(a)\n",
    "        a, b=b, a+b\n",
    "    return series\n",
    "i=int(input(\"Enter number of terms: \"))\n",
    "if i<=0:\n",
    "    print(\"Please enter a positive integer.\")\n",
    "else:\n",
    "    print(\"Fibonacci series:\", fibonacci(i))"
   ]
  },
  {
   "cell_type": "code",
   "execution_count": 21,
   "id": "15125505-efff-460c-8a83-d4e334d9b248",
   "metadata": {},
   "outputs": [],
   "source": [
    "def is_palindrome(s):\n",
    "    # Remove non-alphanumeric characters and convert to lowercase\n",
    "    cleaned = ''.join(char.lower() for char in s if char.isalnum())\n",
    "    return cleaned == cleaned[::-1]"
   ]
  },
  {
   "cell_type": "code",
   "execution_count": 27,
   "id": "7e441252-9998-4e49-a5e8-b9b32f3f80f4",
   "metadata": {},
   "outputs": [],
   "source": [
    "def sum_values(*args):\n",
    "    print(sum_values(1, 2, 3))         # Output: 6\n",
    "    print(sum_values(10, 20, 30, 40))  # Output: 100\n",
    "    print(sum_values())                # Output: 0\n",
    "    return sum_vales(args)"
   ]
  },
  {
   "cell_type": "code",
   "execution_count": 29,
   "id": "b948ccb6-e92c-4c3c-8ae8-318ff25ec51a",
   "metadata": {},
   "outputs": [
    {
     "name": "stdin",
     "output_type": "stream",
     "text": [
      "How many numbers?  2\n",
      "Enter number 1:  3\n",
      "Enter number 2:  2\n"
     ]
    },
    {
     "name": "stdout",
     "output_type": "stream",
     "text": [
      "Largest element is: 3\n"
     ]
    }
   ],
   "source": [
    "def find(lst):\n",
    "    largest = lst[0]\n",
    "    for i in lst:\n",
    "        if i > largest:\n",
    "            largest = i\n",
    "    return largest\n",
    "    \n",
    "n = int(input(\"How many numbers? \"))\n",
    "numbers = [0] * n\n",
    "for i in range(n):\n",
    "    numbers[i] = int(input(f\"Enter number {i+1}: \"))\n",
    "print(\"Largest element is:\", find(numbers))"
   ]
  },
  {
   "cell_type": "code",
   "execution_count": 30,
   "id": "9bfa6b55-f22f-4ff9-b541-12a79b307437",
   "metadata": {},
   "outputs": [
    {
     "name": "stdin",
     "output_type": "stream",
     "text": [
      "Enter first number:  2\n",
      "Enter second number:  3\n"
     ]
    },
    {
     "name": "stdout",
     "output_type": "stream",
     "text": [
      "Sum: 5\n"
     ]
    }
   ],
   "source": [
    "def add(a, b):\n",
    "    return a+b\n",
    "i=int(input(\"Enter first number: \"))\n",
    "j=int(input(\"Enter second number: \"))\n",
    "result=add(i,j)\n",
    "print(\"Sum:\",result)"
   ]
  },
  {
   "cell_type": "code",
   "execution_count": 31,
   "id": "59a4135f-9d8f-449c-b1ac-b6e7231d2213",
   "metadata": {},
   "outputs": [
    {
     "name": "stdin",
     "output_type": "stream",
     "text": [
      "Enter a string:  shd\n"
     ]
    },
    {
     "name": "stdout",
     "output_type": "stream",
     "text": [
      "Not a palindrome.\n"
     ]
    }
   ],
   "source": [
    "def is_palindrome(s):\n",
    "    if s == s[::-1]:\n",
    "        print(\"It's a palindrome!\")\n",
    "    else:\n",
    "        print(\"Not a palindrome.\")\n",
    "text = input(\"Enter a string: \")\n",
    "is_palindrome(text)"
   ]
  },
  {
   "cell_type": "code",
   "execution_count": 33,
   "id": "f2739584-e5c2-4c84-a46c-e14856b76449",
   "metadata": {},
   "outputs": [
    {
     "name": "stdout",
     "output_type": "stream",
     "text": [
      "Sum is: 133\n"
     ]
    }
   ],
   "source": [
    "def total(*args):\n",
    "    result = 0\n",
    "    for num in args:\n",
    "        result += num\n",
    "    return result\n",
    "print(\"Sum is:\", total(98, 12, 23))"
   ]
  },
  {
   "cell_type": "code",
   "execution_count": 4,
   "id": "e0389929-5167-485a-966e-356df4ce92d5",
   "metadata": {},
   "outputs": [
    {
     "name": "stdout",
     "output_type": "stream",
     "text": [
      "Average is: 15.0\n"
     ]
    }
   ],
   "source": [
    "def average(a, b):\n",
    "    return (a + b) / 2\n",
    "result = average(10, 20)\n",
    "print(\"Average is:\", result)"
   ]
  },
  {
   "cell_type": "code",
   "execution_count": 5,
   "id": "6e676b75-b709-46d1-8f26-5a0704aac84e",
   "metadata": {},
   "outputs": [
    {
     "name": "stdin",
     "output_type": "stream",
     "text": [
      "Enter a number:  55\n"
     ]
    },
    {
     "name": "stdout",
     "output_type": "stream",
     "text": [
      "Square of the number is: 3025\n"
     ]
    }
   ],
   "source": [
    "square = lambda x: x**2\n",
    "num = int(input(\"Enter a number: \"))\n",
    "result = square(num)\n",
    "print(\"Square of the number is:\", result)"
   ]
  },
  {
   "cell_type": "code",
   "execution_count": null,
   "id": "998d07b3-1592-44db-a2db-e13e09e4ee07",
   "metadata": {},
   "outputs": [],
   "source": []
  }
 ],
 "metadata": {
  "kernelspec": {
   "display_name": "Python 3 (ipykernel)",
   "language": "python",
   "name": "python3"
  },
  "language_info": {
   "codemirror_mode": {
    "name": "ipython",
    "version": 3
   },
   "file_extension": ".py",
   "mimetype": "text/x-python",
   "name": "python",
   "nbconvert_exporter": "python",
   "pygments_lexer": "ipython3",
   "version": "3.13.5"
  }
 },
 "nbformat": 4,
 "nbformat_minor": 5
}
