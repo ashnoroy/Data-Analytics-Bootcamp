{
 "cells": [
  {
   "cell_type": "code",
   "execution_count": null,
   "id": "ae9e55ee-ef00-4b55-a542-592411700327",
   "metadata": {},
   "outputs": [
    {
     "name": "stdout",
     "output_type": "stream",
     "text": [
      "\n",
      "----- Library Menu -----\n",
      "1. Display Books\n",
      "2. Borrow Book\n",
      "3. Return Book\n",
      "4. Add Book\n",
      "5. Exit\n"
     ]
    },
    {
     "name": "stdin",
     "output_type": "stream",
     "text": [
      "Enter your choice (1-5):  4\n",
      "Enter the name of the book to add:  The old days\n"
     ]
    },
    {
     "name": "stdout",
     "output_type": "stream",
     "text": [
      "\n",
      " Book 'The old days' added to the library.\n",
      "\n",
      "----- Library Menu -----\n",
      "1. Display Books\n",
      "2. Borrow Book\n",
      "3. Return Book\n",
      "4. Add Book\n",
      "5. Exit\n"
     ]
    },
    {
     "name": "stdin",
     "output_type": "stream",
     "text": [
      "Enter your choice (1-5):  1\n"
     ]
    },
    {
     "name": "stdout",
     "output_type": "stream",
     "text": [
      "\n",
      " Available Books:\n",
      " - 1984\n",
      " - The Alchemist\n",
      " - The Great Gatsby\n",
      " - Python Basics\n",
      " - The old days\n",
      "\n",
      "----- Library Menu -----\n",
      "1. Display Books\n",
      "2. Borrow Book\n",
      "3. Return Book\n",
      "4. Add Book\n",
      "5. Exit\n"
     ]
    },
    {
     "name": "stdin",
     "output_type": "stream",
     "text": [
      "Enter your choice (1-5):  2\n",
      "Enter the name of the book to borrow:  The old days\n",
      "Enter your name:  Ashno\n"
     ]
    },
    {
     "name": "stdout",
     "output_type": "stream",
     "text": [
      "\n",
      " Ashno has borrowed 'The old days'.\n",
      "\n",
      "----- Library Menu -----\n",
      "1. Display Books\n",
      "2. Borrow Book\n",
      "3. Return Book\n",
      "4. Add Book\n",
      "5. Exit\n"
     ]
    },
    {
     "name": "stdin",
     "output_type": "stream",
     "text": [
      "Enter your choice (1-5):  \n"
     ]
    },
    {
     "name": "stdout",
     "output_type": "stream",
     "text": [
      "\n",
      " Invalid choice. Please select from 1 to 5.\n",
      "\n",
      "----- Library Menu -----\n",
      "1. Display Books\n",
      "2. Borrow Book\n",
      "3. Return Book\n",
      "4. Add Book\n",
      "5. Exit\n"
     ]
    },
    {
     "name": "stdin",
     "output_type": "stream",
     "text": [
      "Enter your choice (1-5):  1\n"
     ]
    },
    {
     "name": "stdout",
     "output_type": "stream",
     "text": [
      "\n",
      " Available Books:\n",
      " - 1984\n",
      " - The Alchemist\n",
      " - The Great Gatsby\n",
      " - Python Basics\n",
      "\n",
      "----- Library Menu -----\n",
      "1. Display Books\n",
      "2. Borrow Book\n",
      "3. Return Book\n",
      "4. Add Book\n",
      "5. Exit\n"
     ]
    },
    {
     "name": "stdin",
     "output_type": "stream",
     "text": [
      "Enter your choice (1-5):  2\n",
      "Enter the name of the book to borrow:  1984\n",
      "Enter your name:  Ashno\n"
     ]
    },
    {
     "name": "stdout",
     "output_type": "stream",
     "text": [
      "\n",
      " Ashno has borrowed '1984'.\n",
      "\n",
      "----- Library Menu -----\n",
      "1. Display Books\n",
      "2. Borrow Book\n",
      "3. Return Book\n",
      "4. Add Book\n",
      "5. Exit\n"
     ]
    },
    {
     "name": "stdin",
     "output_type": "stream",
     "text": [
      "Enter your choice (1-5):  1\n"
     ]
    },
    {
     "name": "stdout",
     "output_type": "stream",
     "text": [
      "\n",
      " Available Books:\n",
      " - The Alchemist\n",
      " - The Great Gatsby\n",
      " - Python Basics\n",
      "\n",
      "----- Library Menu -----\n",
      "1. Display Books\n",
      "2. Borrow Book\n",
      "3. Return Book\n",
      "4. Add Book\n",
      "5. Exit\n"
     ]
    },
    {
     "name": "stdin",
     "output_type": "stream",
     "text": [
      "Enter your choice (1-5):  3\n",
      "Enter the name of the book to return:  The old days\n"
     ]
    },
    {
     "name": "stdout",
     "output_type": "stream",
     "text": [
      "\n",
      " 'The old days' returned by Ashno.\n",
      "\n",
      "----- Library Menu -----\n",
      "1. Display Books\n",
      "2. Borrow Book\n",
      "3. Return Book\n",
      "4. Add Book\n",
      "5. Exit\n"
     ]
    },
    {
     "name": "stdin",
     "output_type": "stream",
     "text": [
      "Enter your choice (1-5):  3\n",
      "Enter the name of the book to return:  1984\n"
     ]
    },
    {
     "name": "stdout",
     "output_type": "stream",
     "text": [
      "\n",
      " '1984' returned by Ashno.\n",
      "\n",
      "----- Library Menu -----\n",
      "1. Display Books\n",
      "2. Borrow Book\n",
      "3. Return Book\n",
      "4. Add Book\n",
      "5. Exit\n"
     ]
    }
   ],
   "source": [
    "class Library:\n",
    "    def __init__(self, book_list):\n",
    "        self.books = book_list\n",
    "        self.borrowed_books = {}\n",
    "\n",
    "    def display_books(self):\n",
    "        print(\"\\n Available Books:\")\n",
    "        for book in self.books:\n",
    "            print(f\" - {book}\")\n",
    "        if not self.books:\n",
    "            print(\"No books currently available.\")\n",
    "\n",
    "    def borrow_book(self, book_name, borrower):\n",
    "        if book_name in self.books:\n",
    "            self.books.remove(book_name)\n",
    "            self.borrowed_books[book_name] = borrower\n",
    "            print(f\"\\n {borrower} has borrowed '{book_name}'.\")\n",
    "        elif book_name in self.borrowed_books:\n",
    "            print(f\"\\n Book '{book_name}' is already borrowed by {self.borrowed_books[book_name]}.\")\n",
    "        else:\n",
    "            print(\"\\n Book not found in the library.\")\n",
    "\n",
    "    def return_book(self, book_name):\n",
    "        if book_name in self.borrowed_books:\n",
    "            self.books.append(book_name)\n",
    "            borrower = self.borrowed_books.pop(book_name)\n",
    "            print(f\"\\n '{book_name}' returned by {borrower}.\")\n",
    "        else:\n",
    "            print(\"\\n This book was not borrowed from this library.\")\n",
    "\n",
    "    def add_book(self, book_name):\n",
    "        if book_name in self.books or book_name in self.borrowed_books:\n",
    "            print(\"\\n Book already exists in the system.\")\n",
    "        else:\n",
    "            self.books.append(book_name)\n",
    "            print(f\"\\n Book '{book_name}' added to the library.\")\n",
    "\n",
    "def main():\n",
    "    library = Library([\"1984\", \"The Alchemist\", \"The Great Gatsby\", \"Python Basics\"])\n",
    "    \n",
    "    while True:\n",
    "        print(\"\\n----- Library Menu -----\")\n",
    "        print(\"1. Display Books\")\n",
    "        print(\"2. Borrow Book\")\n",
    "        print(\"3. Return Book\")\n",
    "        print(\"4. Add Book\")\n",
    "        print(\"5. Exit\")\n",
    "\n",
    "        choice = input(\"Enter your choice (1-5): \")\n",
    "\n",
    "        if choice == \"1\":\n",
    "            library.display_books()\n",
    "\n",
    "        elif choice == \"2\":\n",
    "            book = input(\"Enter the name of the book to borrow: \")\n",
    "            name = input(\"Enter your name: \")\n",
    "            library.borrow_book(book, name)\n",
    "\n",
    "        elif choice == \"3\":\n",
    "            book = input(\"Enter the name of the book to return: \")\n",
    "            library.return_book(book)\n",
    "\n",
    "        elif choice == \"4\":\n",
    "            book = input(\"Enter the name of the book to add: \")\n",
    "            library.add_book(book)\n",
    "\n",
    "        elif choice == \"5\":\n",
    "            print(\"\\n Exiting the Library System. Goodbye!\")\n",
    "            break\n",
    "\n",
    "        else:\n",
    "            print(\"\\n Invalid choice. Please select from 1 to 5.\")\n",
    "\n",
    "\n",
    "if __name__ == \"__main__\":\n",
    "    main()\n"
   ]
  },
  {
   "cell_type": "code",
   "execution_count": null,
   "id": "152f65c6-a08c-494f-9387-4e61c19a60eb",
   "metadata": {},
   "outputs": [],
   "source": []
  }
 ],
 "metadata": {
  "kernelspec": {
   "display_name": "Python 3 (ipykernel)",
   "language": "python",
   "name": "python3"
  },
  "language_info": {
   "codemirror_mode": {
    "name": "ipython",
    "version": 3
   },
   "file_extension": ".py",
   "mimetype": "text/x-python",
   "name": "python",
   "nbconvert_exporter": "python",
   "pygments_lexer": "ipython3",
   "version": "3.13.5"
  }
 },
 "nbformat": 4,
 "nbformat_minor": 5
}
