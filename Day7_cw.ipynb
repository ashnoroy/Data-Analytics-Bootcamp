{
 "cells": [
  {
   "cell_type": "code",
   "execution_count": 2,
   "id": "a657a263-a556-4883-aef1-1deaedd1ed38",
   "metadata": {},
   "outputs": [],
   "source": [
    "import sqlite3\n",
    "\n",
    "# Database connection\n",
    "conn = sqlite3.connect(\"atm.db\")\n",
    "cur = conn.cursor()\n",
    "\n",
    "# Table create (run once)\n",
    "cur.execute('''\n",
    "CREATE TABLE IF NOT EXISTS accounts (\n",
    "    acc_no INTEGER PRIMARY KEY AUTOINCREMENT,\n",
    "    name TEXT,\n",
    "    pin TEXT,\n",
    "    balance REAL\n",
    ")\n",
    "''')\n",
    "conn.commit()"
   ]
  },
  {
   "cell_type": "code",
   "execution_count": null,
   "id": "e6a51750-9487-41f6-9b72-73288a5b2126",
   "metadata": {},
   "outputs": [],
   "source": [
    "#project"
   ]
  },
  {
   "cell_type": "code",
   "execution_count": 50,
   "id": "cf100945-1d2c-4696-91fb-7c7f7ab59236",
   "metadata": {},
   "outputs": [
    {
     "name": "stdout",
     "output_type": "stream",
     "text": [
      "Available Products:\n",
      "ID: 52, Name: cap, Price: ₹500.0\n",
      "ID: 53, Name: tshirt, Price: ₹1200.0\n",
      "ID: 54, Name: chicken, Price: ₹300.0\n",
      "ID: 55, Name: 8 PM, Price: ₹500.0\n",
      "ID: 56, Name: antiquity blue, Price: ₹1200.0\n",
      "ID: 57, Name: chicken, Price: ₹300.0\n"
     ]
    },
    {
     "name": "stdin",
     "output_type": "stream",
     "text": [
      "Enter Product ID (or type 'done' to finish):  56\n",
      "Enter quantity:  1\n"
     ]
    },
    {
     "name": "stdout",
     "output_type": "stream",
     "text": [
      "Product ID 56 added to cart (Quantity: 1)\n"
     ]
    },
    {
     "name": "stdin",
     "output_type": "stream",
     "text": [
      "Enter Product ID (or type 'done' to finish):  55\n",
      "Enter quantity:  2\n"
     ]
    },
    {
     "name": "stdout",
     "output_type": "stream",
     "text": [
      "Product ID 55 added to cart (Quantity: 2)\n"
     ]
    },
    {
     "name": "stdin",
     "output_type": "stream",
     "text": [
      "Enter Product ID (or type 'done' to finish):  57\n",
      "Enter quantity:  3\n"
     ]
    },
    {
     "name": "stdout",
     "output_type": "stream",
     "text": [
      "Product ID 57 added to cart (Quantity: 3)\n"
     ]
    },
    {
     "name": "stdin",
     "output_type": "stream",
     "text": [
      "Enter Product ID (or type 'done' to finish):  done\n"
     ]
    },
    {
     "name": "stdout",
     "output_type": "stream",
     "text": [
      "Cart Summary:\n",
      "chicken - ₹300.0 x 2 = ₹600.0\n",
      "cap - ₹500.0 x 3 = ₹1500.0\n",
      "antiquity blue - ₹1200.0 x 1 = ₹1200.0\n",
      "8 PM - ₹500.0 x 2 = ₹1000.0\n",
      "chicken - ₹300.0 x 3 = ₹900.0\n",
      "\n",
      " Total Bill: ₹ 5200.0\n"
     ]
    }
   ],
   "source": [
    "import sqlite3\n",
    "\n",
    "conn = sqlite3.connect('shopping.db')\n",
    "cursor = conn.cursor()\n",
    "\n",
    "cursor.execute('''\n",
    "CREATE TABLE IF NOT EXISTS products (\n",
    "    id INTEGER PRIMARY KEY AUTOINCREMENT,\n",
    "    name TEXT NOT NULL,\n",
    "    price REAL NOT NULL\n",
    ")\n",
    "''')\n",
    "\n",
    "cursor.execute('''\n",
    "CREATE TABLE IF NOT EXISTS cart (\n",
    "    product_id INTEGER,\n",
    "    quantity INTEGER,\n",
    "    FOREIGN KEY(product_id) REFERENCES products(id)\n",
    ")\n",
    "''')\n",
    "\n",
    "conn.commit()\n",
    "\n",
    "def add_product(name, price):\n",
    "    cursor.execute(\"INSERT INTO products (name, price) VALUES (?, ?)\", (name, price))\n",
    "    conn.commit()\n",
    "    print(f\"Product '{name}' added successfully.\")\n",
    "\n",
    "def view_products():\n",
    "    cursor.execute(\"SELECT * FROM products\")\n",
    "    rows = cursor.fetchall()\n",
    "    print(\"Available Products:\")\n",
    "    for row in rows:\n",
    "        print(f\"ID: {row[0]}, Name: {row[1]}, Price: ₹{row[2]}\")\n",
    "\n",
    "def add_to_cart(product_id, quantity):\n",
    "    cursor.execute(\"INSERT INTO cart (product_id, quantity) VALUES (?, ?)\", (product_id, quantity))\n",
    "    conn.commit()\n",
    "    print(f\"Product ID {product_id} added to cart (Quantity: {quantity})\")\n",
    "\n",
    "def view_cart_and_bill():\n",
    "    cursor.execute('''\n",
    "        SELECT p.name, p.price, c.quantity, p.price * c.quantity as total\n",
    "        FROM cart c\n",
    "        JOIN products p ON c.product_id = p.id\n",
    "    ''')\n",
    "    rows = cursor.fetchall()\n",
    "    if not rows:\n",
    "        print(\"Your cart is empty.\")\n",
    "        return\n",
    "    \n",
    "    grand_total = 0\n",
    "    print(\"Cart Summary:\")\n",
    "    for name, price, qty, total in rows:\n",
    "        print(f\"{name} - ₹{price} x {qty} = ₹{total}\")\n",
    "        grand_total += total\n",
    "    print(\"\\n Total Bill: ₹\", grand_total)\n",
    "\n",
    "def clear_cart():\n",
    "    cursor.execute(\"DELETE FROM cart\")\n",
    "    conn.commit()\n",
    "    print(\"Cart cleared.\")\n",
    "\n",
    "view_products()\n",
    "\n",
    "#add_product(\"8 PM\", 500)\n",
    "#add_product(\"antiquity blue\", 1200)\n",
    "#add_product(\"chicken\", 300)\n",
    "\n",
    "while True:\n",
    "    product_id = input(\"Enter Product ID (or type 'done' to finish): \")\n",
    "    if product_id.lower() == 'done':\n",
    "        break\n",
    "    quantity = input(\"Enter quantity: \")\n",
    "    add_to_cart(int(product_id), int(quantity))\n",
    "\n",
    "view_cart_and_bill()"
   ]
  },
  {
   "cell_type": "code",
   "execution_count": null,
   "id": "73a853d8-c81f-4c1a-aa9e-b00c1d7a7007",
   "metadata": {},
   "outputs": [],
   "source": [
    "#numpy"
   ]
  },
  {
   "cell_type": "code",
   "execution_count": 53,
   "id": "7bea2106-fd92-40e7-b997-b246a34accc0",
   "metadata": {},
   "outputs": [
    {
     "name": "stdout",
     "output_type": "stream",
     "text": [
      "[1 2 3]\n",
      "[[1 2]\n",
      " [3 4]]\n"
     ]
    }
   ],
   "source": [
    "import numpy as np\n",
    "\n",
    "a = np.array([1,2,3])\n",
    "b = np.array([[1,2],[3,4]])\n",
    "print(a)\n",
    "print(b)"
   ]
  },
  {
   "cell_type": "code",
   "execution_count": 54,
   "id": "f48d0a3d-bc5d-49b5-8804-79d1fb852d1d",
   "metadata": {},
   "outputs": [
    {
     "name": "stdout",
     "output_type": "stream",
     "text": [
      "(2, 3)\n",
      "6\n",
      "2\n",
      "int64\n"
     ]
    }
   ],
   "source": [
    "arr= np.array([[1,2,3],[4,5,6]])\n",
    "\n",
    "print(arr.shape)\n",
    "print(arr.size)\n",
    "print(arr.ndim)\n",
    "print(arr.dtype)"
   ]
  },
  {
   "cell_type": "code",
   "execution_count": 58,
   "id": "7fd74f27-69b6-455a-a0cc-b26a3a4febfc",
   "metadata": {},
   "outputs": [
    {
     "name": "stdout",
     "output_type": "stream",
     "text": [
      "[[0. 0. 0.]\n",
      " [0. 0. 0.]]\n",
      "[[1. 1. 1.]\n",
      " [1. 1. 1.]\n",
      " [1. 1. 1.]]\n",
      "[[1. 0. 0.]\n",
      " [0. 1. 0.]\n",
      " [0. 0. 1.]]\n",
      "[[7 7]\n",
      " [7 7]]\n",
      "[1 3 5 7 9]\n",
      "[1.         2.33333333 3.66666667 5.        ]\n"
     ]
    }
   ],
   "source": [
    "import numpy as np\n",
    "print(np.zeros((2,3)))\n",
    "print(np.ones((3,3)))\n",
    "print(np.eye(3,3))\n",
    "print(np.full((2,2), 7))\n",
    "print(np.arange(1,10,2))\n",
    "print(np.linspace(1,5,4))"
   ]
  },
  {
   "cell_type": "code",
   "execution_count": 63,
   "id": "e99ac566-f4bb-45e8-866e-c0adecf23070",
   "metadata": {},
   "outputs": [
    {
     "name": "stdout",
     "output_type": "stream",
     "text": [
      "[5 7 9]\n",
      "[ 4 10 18]\n",
      "[1 4 9]\n",
      "[1.         1.41421356 1.73205081]\n",
      "2.0\n"
     ]
    }
   ],
   "source": [
    "a = np.array([1,2,3])\n",
    "b = np.array([4,5,6])\n",
    "\n",
    "print(a + b)\n",
    "\n",
    "print(a * b)\n",
    "\n",
    "print(a ** 2)\n",
    "\n",
    "print (np.sqrt (a))\n",
    "\n",
    "print(np.mean (a))"
   ]
  },
  {
   "cell_type": "code",
   "execution_count": 69,
   "id": "61329e42-a5dd-4030-a9fa-7d5f16f09d31",
   "metadata": {},
   "outputs": [
    {
     "name": "stdout",
     "output_type": "stream",
     "text": [
      "21\n",
      "1\n",
      "6\n",
      "[5 7 9]\n"
     ]
    }
   ],
   "source": [
    "arr = np.array ([[1, 2, 3], [4, 5, 6]])\n",
    "print(np.sum(arr))\n",
    "\n",
    "print(np.min(arr))\n",
    "\n",
    "print(np.max(arr))\n",
    "\n",
    "print(np.sum(arr, axis=0))"
   ]
  },
  {
   "cell_type": "code",
   "execution_count": 70,
   "id": "a9fcbbb4-5c0c-4665-ba0f-f67be34ada80",
   "metadata": {},
   "outputs": [
    {
     "name": "stdout",
     "output_type": "stream",
     "text": [
      "[1 2 3 4]\n"
     ]
    }
   ],
   "source": [
    "arr = np.array([[1, 2], [3, 4]])\n",
    "print(arr. flatten())"
   ]
  },
  {
   "cell_type": "code",
   "execution_count": 72,
   "id": "862b7ca8-2968-48ee-ad79-9f761bd4d079",
   "metadata": {},
   "outputs": [
    {
     "name": "stdout",
     "output_type": "stream",
     "text": [
      "[[1 4]\n",
      " [2 5]\n",
      " [3 6]]\n"
     ]
    }
   ],
   "source": [
    "arr = np.array ([[1, 2, 3], [4, 5, 6]])\n",
    "print(arr.T)"
   ]
  },
  {
   "cell_type": "code",
   "execution_count": 75,
   "id": "ed09b91d-3dd4-4f51-ade4-d098da7c2b16",
   "metadata": {},
   "outputs": [
    {
     "name": "stdout",
     "output_type": "stream",
     "text": [
      "[[ 4 42]\n",
      " [10 84]]\n"
     ]
    }
   ],
   "source": [
    "a = np.array ([[1, 2], [3, 4]])\n",
    "b = np.array([[2, 0], [1, 21]])\n",
    "print(np.dot (a, b))"
   ]
  },
  {
   "cell_type": "code",
   "execution_count": null,
   "id": "0c73e5b5-147a-4935-8d3d-c9555761eb19",
   "metadata": {},
   "outputs": [],
   "source": []
  }
 ],
 "metadata": {
  "kernelspec": {
   "display_name": "Python 3 (ipykernel)",
   "language": "python",
   "name": "python3"
  },
  "language_info": {
   "codemirror_mode": {
    "name": "ipython",
    "version": 3
   },
   "file_extension": ".py",
   "mimetype": "text/x-python",
   "name": "python",
   "nbconvert_exporter": "python",
   "pygments_lexer": "ipython3",
   "version": "3.13.5"
  }
 },
 "nbformat": 4,
 "nbformat_minor": 5
}
