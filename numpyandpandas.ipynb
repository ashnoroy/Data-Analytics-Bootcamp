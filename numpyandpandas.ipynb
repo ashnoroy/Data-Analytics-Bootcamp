{
 "cells": [
  {
   "cell_type": "code",
   "execution_count": null,
   "id": "a84cdf1a-6906-4709-b697-3bd6c46500f1",
   "metadata": {},
   "outputs": [],
   "source": [
    "#numpy\n",
    "#seaborn\n",
    "#pandas\n",
    "#matplotlib\n",
    "\n",
    "\n",
    "python -m ensurepip --default-pip\n",
    "python -m pip install --upgrade pip\n"
   ]
  },
  {
   "cell_type": "code",
   "execution_count": 31,
   "id": "26c41d89-5415-4966-97f1-237a485d9e63",
   "metadata": {},
   "outputs": [],
   "source": [
    "import numpy as np\n"
   ]
  },
  {
   "cell_type": "code",
   "execution_count": 33,
   "id": "c26da5db-8ca4-4600-8054-1bf8a2b6c411",
   "metadata": {},
   "outputs": [
    {
     "name": "stdout",
     "output_type": "stream",
     "text": [
      "[1 2 3]\n",
      "[[1 2]\n",
      " [3 4]]\n"
     ]
    }
   ],
   "source": [
    "a = np.array([1, 2, 3])\n",
    "b = np.array([[1, 2], [3, 4]])\n",
    "print(a)\n",
    "print(b)\n"
   ]
  },
  {
   "cell_type": "code",
   "execution_count": null,
   "id": "0863a767-b69e-48b8-8458-9c064a7047bd",
   "metadata": {},
   "outputs": [],
   "source": [
    "arr = np.array([[1, 2, 3], [4, 5, 6]])\n",
    "\n",
    "print(arr.shape)     # (2, 3)\n",
    "print(arr.size)      # 6\n",
    "print(arr.ndim)      # 2\n",
    "print(arr.dtype)     # int64\n"
   ]
  },
  {
   "cell_type": "code",
   "execution_count": null,
   "id": "1d8e68a0-5727-49f3-a737-e61f5e79bce5",
   "metadata": {},
   "outputs": [],
   "source": [
    "a = np.array([1, 2, 3, 4, 5, 6])\n",
    "print(a.reshape(2, 3))\n"
   ]
  },
  {
   "cell_type": "code",
   "execution_count": null,
   "id": "ca2ec7a5-ff14-4bf8-8c76-cd738207789c",
   "metadata": {},
   "outputs": [],
   "source": [
    "arr = np.array([10, 20, 30, 40, 50])\n",
    "print(arr[1])       # 20\n",
    "print(arr[1:4])     # [20 30 40]\n"
   ]
  },
  {
   "cell_type": "code",
   "execution_count": null,
   "id": "c5371300-6524-498c-b821-a84611975da3",
   "metadata": {},
   "outputs": [],
   "source": [
    "print(np.zeros((2, 3)))         # 2x3 array of 0\n",
    "print(np.ones((3, 3)))          # 3x3 array of 1\n",
    "print(np.eye(3,3))                # Identity matrix\n",
    "print(np.full((2, 2), 7))       # Filled with 7\n",
    "print(np.arange(1, 10, 2))      # [1 3 5 7 9]\n",
    "print(np.linspace(1, 5, 4))     # [1. 2.33 3.66 5.]\n"
   ]
  },
  {
   "cell_type": "code",
   "execution_count": null,
   "id": "2429b79a-2ee7-4d81-a7bd-8b7d71a287e2",
   "metadata": {},
   "outputs": [],
   "source": [
    "a = np.array([1, 2, 3])\n",
    "b = np.array([4, 5, 6])\n",
    "\n",
    "print(a + b)      # [5 7 9]\n",
    "print(a * b)      # [4 10 18]\n",
    "print(a ** 2)     # [1 4 9]\n",
    "print(np.sqrt(a)) # [1. 1.41 1.73]\n",
    "print(np.mean(a)) # 2.0\n"
   ]
  },
  {
   "cell_type": "code",
   "execution_count": null,
   "id": "831031cd-e0c2-47c1-8c2d-6023dd247c4a",
   "metadata": {},
   "outputs": [],
   "source": [
    "arr = np.array([[1, 2, 3], [4, 5, 6]])\n",
    "\n",
    "print(np.sum(arr))          # 21\n",
    "print(np.min(arr))          # 1\n",
    "print(np.max(arr))          # 6\n",
    "print(np.sum(arr, axis=0))  # [5 7 9] (column-wise)\n",
    "print(np.sum(arr, axis=1))  # [6 15]  (row-wise)\n"
   ]
  },
  {
   "cell_type": "code",
   "execution_count": null,
   "id": "9746a8c1-c32a-4f58-acc5-d7392b0c74f0",
   "metadata": {},
   "outputs": [],
   "source": [
    "arr = np.array([4, 1, 5, 2])\n",
    "print(np.sort(arr))  # [1 2 4 5]\n"
   ]
  },
  {
   "cell_type": "code",
   "execution_count": null,
   "id": "800ea93a-0191-4456-891f-c430adeb5a51",
   "metadata": {},
   "outputs": [],
   "source": [
    "a = np.array([1, 2, 3])\n",
    "b = a.copy()\n",
    "c = a.view()\n",
    "\n",
    "a[0] = 99\n",
    "\n",
    "print(b)  # [1 2 3] (copy remains same)\n",
    "print(c)  # [99 2 3] (view reflects change)\n"
   ]
  },
  {
   "cell_type": "code",
   "execution_count": null,
   "id": "b4705b73-a672-4729-bc5f-697a3abac637",
   "metadata": {},
   "outputs": [],
   "source": [
    "arr = np.array([[1, 2], [3, 4]])\n",
    "print(arr.flatten())  # [1 2 3 4]\n"
   ]
  },
  {
   "cell_type": "code",
   "execution_count": null,
   "id": "161aa26f-0f50-4d89-9c29-45a578a1fc3e",
   "metadata": {},
   "outputs": [],
   "source": [
    "arr = np.array([[1, 2, 3], [4, 5, 6]])\n",
    "print(arr.T)\n"
   ]
  },
  {
   "cell_type": "code",
   "execution_count": null,
   "id": "8dc93435-c917-4591-925d-4de32fa82113",
   "metadata": {},
   "outputs": [],
   "source": [
    "a = np.array([[1, 2], [3, 4]])\n",
    "b = np.array([[2, 0], [1, 2]])\n",
    "\n",
    "print(np.dot(a, b))  # Matrix multiplication\n"
   ]
  },
  {
   "cell_type": "code",
   "execution_count": 1,
   "id": "ec86abd3-c846-4809-8e9e-743014b5cbec",
   "metadata": {},
   "outputs": [],
   "source": [
    "#pandas\n"
   ]
  },
  {
   "cell_type": "code",
   "execution_count": 2,
   "id": "896bf117-bbcb-4b43-a612-8d589a418692",
   "metadata": {},
   "outputs": [],
   "source": [
    "import pandas as pd"
   ]
  },
  {
   "cell_type": "code",
   "execution_count": 3,
   "id": "d6c4e808-3910-4eed-9443-9693f1d8b3cf",
   "metadata": {},
   "outputs": [
    {
     "name": "stdout",
     "output_type": "stream",
     "text": [
      "      Name  Age  Marks\n",
      "0  Divyank   21     88\n",
      "1     Riya   20     92\n",
      "2    Aryan   22     79\n"
     ]
    }
   ],
   "source": [
    " # From dictionary\n",
    "data = {\n",
    "    'Name': ['Divyank', 'Riya', 'Aryan'],\n",
    "    'Age': [21, 20, 22],\n",
    "    'Marks': [88, 92, 79]\n",
    "}\n",
    "\n",
    "df = pd.DataFrame(data)\n",
    "print(df)\n"
   ]
  },
  {
   "cell_type": "code",
   "execution_count": 4,
   "id": "c3edda4a-8979-4b48-8a6e-df2fcfe628cf",
   "metadata": {},
   "outputs": [
    {
     "ename": "FileNotFoundError",
     "evalue": "[Errno 2] No such file or directory: 'data.csv'",
     "output_type": "error",
     "traceback": [
      "\u001b[0;31m---------------------------------------------------------------------------\u001b[0m",
      "\u001b[0;31mFileNotFoundError\u001b[0m                         Traceback (most recent call last)",
      "Cell \u001b[0;32mIn[4], line 2\u001b[0m\n\u001b[1;32m      1\u001b[0m \u001b[38;5;28;01mimport\u001b[39;00m\u001b[38;5;250m \u001b[39m\u001b[38;5;21;01mpandas\u001b[39;00m\u001b[38;5;250m \u001b[39m\u001b[38;5;28;01mas\u001b[39;00m\u001b[38;5;250m \u001b[39m\u001b[38;5;21;01mpd\u001b[39;00m\n\u001b[0;32m----> 2\u001b[0m df \u001b[38;5;241m=\u001b[39m pd\u001b[38;5;241m.\u001b[39mread_csv(\u001b[38;5;124m'\u001b[39m\u001b[38;5;124mdata.csv\u001b[39m\u001b[38;5;124m'\u001b[39m)\n\u001b[1;32m      3\u001b[0m df\u001b[38;5;241m.\u001b[39mto_csv(\u001b[38;5;124m'\u001b[39m\u001b[38;5;124moutput.csv\u001b[39m\u001b[38;5;124m'\u001b[39m, index\u001b[38;5;241m=\u001b[39m\u001b[38;5;28;01mFalse\u001b[39;00m)\n\u001b[1;32m      5\u001b[0m df_excel \u001b[38;5;241m=\u001b[39m pd\u001b[38;5;241m.\u001b[39mread_excel(\u001b[38;5;124m'\u001b[39m\u001b[38;5;124mfile.xlsx\u001b[39m\u001b[38;5;124m'\u001b[39m)\n",
      "File \u001b[0;32m/opt/anaconda3/lib/python3.13/site-packages/pandas/io/parsers/readers.py:1026\u001b[0m, in \u001b[0;36mread_csv\u001b[0;34m(filepath_or_buffer, sep, delimiter, header, names, index_col, usecols, dtype, engine, converters, true_values, false_values, skipinitialspace, skiprows, skipfooter, nrows, na_values, keep_default_na, na_filter, verbose, skip_blank_lines, parse_dates, infer_datetime_format, keep_date_col, date_parser, date_format, dayfirst, cache_dates, iterator, chunksize, compression, thousands, decimal, lineterminator, quotechar, quoting, doublequote, escapechar, comment, encoding, encoding_errors, dialect, on_bad_lines, delim_whitespace, low_memory, memory_map, float_precision, storage_options, dtype_backend)\u001b[0m\n\u001b[1;32m   1013\u001b[0m kwds_defaults \u001b[38;5;241m=\u001b[39m _refine_defaults_read(\n\u001b[1;32m   1014\u001b[0m     dialect,\n\u001b[1;32m   1015\u001b[0m     delimiter,\n\u001b[0;32m   (...)\u001b[0m\n\u001b[1;32m   1022\u001b[0m     dtype_backend\u001b[38;5;241m=\u001b[39mdtype_backend,\n\u001b[1;32m   1023\u001b[0m )\n\u001b[1;32m   1024\u001b[0m kwds\u001b[38;5;241m.\u001b[39mupdate(kwds_defaults)\n\u001b[0;32m-> 1026\u001b[0m \u001b[38;5;28;01mreturn\u001b[39;00m _read(filepath_or_buffer, kwds)\n",
      "File \u001b[0;32m/opt/anaconda3/lib/python3.13/site-packages/pandas/io/parsers/readers.py:620\u001b[0m, in \u001b[0;36m_read\u001b[0;34m(filepath_or_buffer, kwds)\u001b[0m\n\u001b[1;32m    617\u001b[0m _validate_names(kwds\u001b[38;5;241m.\u001b[39mget(\u001b[38;5;124m\"\u001b[39m\u001b[38;5;124mnames\u001b[39m\u001b[38;5;124m\"\u001b[39m, \u001b[38;5;28;01mNone\u001b[39;00m))\n\u001b[1;32m    619\u001b[0m \u001b[38;5;66;03m# Create the parser.\u001b[39;00m\n\u001b[0;32m--> 620\u001b[0m parser \u001b[38;5;241m=\u001b[39m TextFileReader(filepath_or_buffer, \u001b[38;5;241m*\u001b[39m\u001b[38;5;241m*\u001b[39mkwds)\n\u001b[1;32m    622\u001b[0m \u001b[38;5;28;01mif\u001b[39;00m chunksize \u001b[38;5;129;01mor\u001b[39;00m iterator:\n\u001b[1;32m    623\u001b[0m     \u001b[38;5;28;01mreturn\u001b[39;00m parser\n",
      "File \u001b[0;32m/opt/anaconda3/lib/python3.13/site-packages/pandas/io/parsers/readers.py:1620\u001b[0m, in \u001b[0;36mTextFileReader.__init__\u001b[0;34m(self, f, engine, **kwds)\u001b[0m\n\u001b[1;32m   1617\u001b[0m     \u001b[38;5;28mself\u001b[39m\u001b[38;5;241m.\u001b[39moptions[\u001b[38;5;124m\"\u001b[39m\u001b[38;5;124mhas_index_names\u001b[39m\u001b[38;5;124m\"\u001b[39m] \u001b[38;5;241m=\u001b[39m kwds[\u001b[38;5;124m\"\u001b[39m\u001b[38;5;124mhas_index_names\u001b[39m\u001b[38;5;124m\"\u001b[39m]\n\u001b[1;32m   1619\u001b[0m \u001b[38;5;28mself\u001b[39m\u001b[38;5;241m.\u001b[39mhandles: IOHandles \u001b[38;5;241m|\u001b[39m \u001b[38;5;28;01mNone\u001b[39;00m \u001b[38;5;241m=\u001b[39m \u001b[38;5;28;01mNone\u001b[39;00m\n\u001b[0;32m-> 1620\u001b[0m \u001b[38;5;28mself\u001b[39m\u001b[38;5;241m.\u001b[39m_engine \u001b[38;5;241m=\u001b[39m \u001b[38;5;28mself\u001b[39m\u001b[38;5;241m.\u001b[39m_make_engine(f, \u001b[38;5;28mself\u001b[39m\u001b[38;5;241m.\u001b[39mengine)\n",
      "File \u001b[0;32m/opt/anaconda3/lib/python3.13/site-packages/pandas/io/parsers/readers.py:1880\u001b[0m, in \u001b[0;36mTextFileReader._make_engine\u001b[0;34m(self, f, engine)\u001b[0m\n\u001b[1;32m   1878\u001b[0m     \u001b[38;5;28;01mif\u001b[39;00m \u001b[38;5;124m\"\u001b[39m\u001b[38;5;124mb\u001b[39m\u001b[38;5;124m\"\u001b[39m \u001b[38;5;129;01mnot\u001b[39;00m \u001b[38;5;129;01min\u001b[39;00m mode:\n\u001b[1;32m   1879\u001b[0m         mode \u001b[38;5;241m+\u001b[39m\u001b[38;5;241m=\u001b[39m \u001b[38;5;124m\"\u001b[39m\u001b[38;5;124mb\u001b[39m\u001b[38;5;124m\"\u001b[39m\n\u001b[0;32m-> 1880\u001b[0m \u001b[38;5;28mself\u001b[39m\u001b[38;5;241m.\u001b[39mhandles \u001b[38;5;241m=\u001b[39m get_handle(\n\u001b[1;32m   1881\u001b[0m     f,\n\u001b[1;32m   1882\u001b[0m     mode,\n\u001b[1;32m   1883\u001b[0m     encoding\u001b[38;5;241m=\u001b[39m\u001b[38;5;28mself\u001b[39m\u001b[38;5;241m.\u001b[39moptions\u001b[38;5;241m.\u001b[39mget(\u001b[38;5;124m\"\u001b[39m\u001b[38;5;124mencoding\u001b[39m\u001b[38;5;124m\"\u001b[39m, \u001b[38;5;28;01mNone\u001b[39;00m),\n\u001b[1;32m   1884\u001b[0m     compression\u001b[38;5;241m=\u001b[39m\u001b[38;5;28mself\u001b[39m\u001b[38;5;241m.\u001b[39moptions\u001b[38;5;241m.\u001b[39mget(\u001b[38;5;124m\"\u001b[39m\u001b[38;5;124mcompression\u001b[39m\u001b[38;5;124m\"\u001b[39m, \u001b[38;5;28;01mNone\u001b[39;00m),\n\u001b[1;32m   1885\u001b[0m     memory_map\u001b[38;5;241m=\u001b[39m\u001b[38;5;28mself\u001b[39m\u001b[38;5;241m.\u001b[39moptions\u001b[38;5;241m.\u001b[39mget(\u001b[38;5;124m\"\u001b[39m\u001b[38;5;124mmemory_map\u001b[39m\u001b[38;5;124m\"\u001b[39m, \u001b[38;5;28;01mFalse\u001b[39;00m),\n\u001b[1;32m   1886\u001b[0m     is_text\u001b[38;5;241m=\u001b[39mis_text,\n\u001b[1;32m   1887\u001b[0m     errors\u001b[38;5;241m=\u001b[39m\u001b[38;5;28mself\u001b[39m\u001b[38;5;241m.\u001b[39moptions\u001b[38;5;241m.\u001b[39mget(\u001b[38;5;124m\"\u001b[39m\u001b[38;5;124mencoding_errors\u001b[39m\u001b[38;5;124m\"\u001b[39m, \u001b[38;5;124m\"\u001b[39m\u001b[38;5;124mstrict\u001b[39m\u001b[38;5;124m\"\u001b[39m),\n\u001b[1;32m   1888\u001b[0m     storage_options\u001b[38;5;241m=\u001b[39m\u001b[38;5;28mself\u001b[39m\u001b[38;5;241m.\u001b[39moptions\u001b[38;5;241m.\u001b[39mget(\u001b[38;5;124m\"\u001b[39m\u001b[38;5;124mstorage_options\u001b[39m\u001b[38;5;124m\"\u001b[39m, \u001b[38;5;28;01mNone\u001b[39;00m),\n\u001b[1;32m   1889\u001b[0m )\n\u001b[1;32m   1890\u001b[0m \u001b[38;5;28;01massert\u001b[39;00m \u001b[38;5;28mself\u001b[39m\u001b[38;5;241m.\u001b[39mhandles \u001b[38;5;129;01mis\u001b[39;00m \u001b[38;5;129;01mnot\u001b[39;00m \u001b[38;5;28;01mNone\u001b[39;00m\n\u001b[1;32m   1891\u001b[0m f \u001b[38;5;241m=\u001b[39m \u001b[38;5;28mself\u001b[39m\u001b[38;5;241m.\u001b[39mhandles\u001b[38;5;241m.\u001b[39mhandle\n",
      "File \u001b[0;32m/opt/anaconda3/lib/python3.13/site-packages/pandas/io/common.py:873\u001b[0m, in \u001b[0;36mget_handle\u001b[0;34m(path_or_buf, mode, encoding, compression, memory_map, is_text, errors, storage_options)\u001b[0m\n\u001b[1;32m    868\u001b[0m \u001b[38;5;28;01melif\u001b[39;00m \u001b[38;5;28misinstance\u001b[39m(handle, \u001b[38;5;28mstr\u001b[39m):\n\u001b[1;32m    869\u001b[0m     \u001b[38;5;66;03m# Check whether the filename is to be opened in binary mode.\u001b[39;00m\n\u001b[1;32m    870\u001b[0m     \u001b[38;5;66;03m# Binary mode does not support 'encoding' and 'newline'.\u001b[39;00m\n\u001b[1;32m    871\u001b[0m     \u001b[38;5;28;01mif\u001b[39;00m ioargs\u001b[38;5;241m.\u001b[39mencoding \u001b[38;5;129;01mand\u001b[39;00m \u001b[38;5;124m\"\u001b[39m\u001b[38;5;124mb\u001b[39m\u001b[38;5;124m\"\u001b[39m \u001b[38;5;129;01mnot\u001b[39;00m \u001b[38;5;129;01min\u001b[39;00m ioargs\u001b[38;5;241m.\u001b[39mmode:\n\u001b[1;32m    872\u001b[0m         \u001b[38;5;66;03m# Encoding\u001b[39;00m\n\u001b[0;32m--> 873\u001b[0m         handle \u001b[38;5;241m=\u001b[39m \u001b[38;5;28mopen\u001b[39m(\n\u001b[1;32m    874\u001b[0m             handle,\n\u001b[1;32m    875\u001b[0m             ioargs\u001b[38;5;241m.\u001b[39mmode,\n\u001b[1;32m    876\u001b[0m             encoding\u001b[38;5;241m=\u001b[39mioargs\u001b[38;5;241m.\u001b[39mencoding,\n\u001b[1;32m    877\u001b[0m             errors\u001b[38;5;241m=\u001b[39merrors,\n\u001b[1;32m    878\u001b[0m             newline\u001b[38;5;241m=\u001b[39m\u001b[38;5;124m\"\u001b[39m\u001b[38;5;124m\"\u001b[39m,\n\u001b[1;32m    879\u001b[0m         )\n\u001b[1;32m    880\u001b[0m     \u001b[38;5;28;01melse\u001b[39;00m:\n\u001b[1;32m    881\u001b[0m         \u001b[38;5;66;03m# Binary mode\u001b[39;00m\n\u001b[1;32m    882\u001b[0m         handle \u001b[38;5;241m=\u001b[39m \u001b[38;5;28mopen\u001b[39m(handle, ioargs\u001b[38;5;241m.\u001b[39mmode)\n",
      "\u001b[0;31mFileNotFoundError\u001b[0m: [Errno 2] No such file or directory: 'data.csv'"
     ]
    }
   ],
   "source": [
    "import pandas as pd\n",
    "df = pd.read_csv('data.csv')\n",
    "df.to_csv('output.csv', index=False)\n",
    "\n",
    "df_excel = pd.read_excel('file.xlsx')\n",
    "df_excel.to_excel('output.xlsx', index=False)\n"
   ]
  },
  {
   "cell_type": "code",
   "execution_count": 9,
   "id": "490367bc-1666-499a-8471-bf50dbe23b13",
   "metadata": {},
   "outputs": [
    {
     "name": "stdout",
     "output_type": "stream",
     "text": [
      "      Name  Age  Marks\n",
      "0  Divyank   21     88\n",
      "1     Riya   20     92\n",
      "2    Aryan   22     79\n",
      "      Name  Age  Marks\n",
      "0  Divyank   21     88\n",
      "1     Riya   20     92\n",
      "2    Aryan   22     79\n",
      "(3, 3)\n",
      "Index(['Name', 'Age', 'Marks'], dtype='object')\n",
      "<class 'pandas.core.frame.DataFrame'>\n",
      "RangeIndex: 3 entries, 0 to 2\n",
      "Data columns (total 3 columns):\n",
      " #   Column  Non-Null Count  Dtype \n",
      "---  ------  --------------  ----- \n",
      " 0   Name    3 non-null      object\n",
      " 1   Age     3 non-null      int64 \n",
      " 2   Marks   3 non-null      int64 \n",
      "dtypes: int64(2), object(1)\n",
      "memory usage: 204.0+ bytes\n",
      "None\n",
      "        Age      Marks\n",
      "count   3.0   3.000000\n",
      "mean   21.0  86.333333\n",
      "std     1.0   6.658328\n",
      "min    20.0  79.000000\n",
      "25%    20.5  83.500000\n",
      "50%    21.0  88.000000\n",
      "75%    21.5  90.000000\n",
      "max    22.0  92.000000\n"
     ]
    }
   ],
   "source": [
    "print(df.head())        # First 5 rows\n",
    "print(df.tail())        # Last 5 rows\n",
    "print(df.shape)         # (rows, columns)\n",
    "print(df.columns)       # Column names\n",
    "print(df.info())        # Summary\n",
    "print(df.describe())    # Stats summary\n"
   ]
  },
  {
   "cell_type": "code",
   "execution_count": null,
   "id": "b333111b-bfa9-4a89-8ed7-2138bea81126",
   "metadata": {},
   "outputs": [],
   "source": [
    "print(df['Name'])               # Single column\n",
    "print(df[['Name', 'Marks']])    # Multiple columns\n",
    "print(df.loc[0])                # Row by label\n",
    "print(df.iloc[1])               # Row by index\n"
   ]
  },
  {
   "cell_type": "code",
   "execution_count": null,
   "id": "4d79f13c-6ce2-48a1-bd41-85b25078fcbd",
   "metadata": {},
   "outputs": [],
   "source": [
    "print(df[df['Marks'] > 85])          # Filter by condition\n",
    "print(df[(df['Marks'] > 85) & (df['Age'] < 22)])\n"
   ]
  },
  {
   "cell_type": "code",
   "execution_count": null,
   "id": "2e46728b-eaae-4561-9777-c219cd69854a",
   "metadata": {},
   "outputs": [],
   "source": [
    "df['Grade'] = ['A', 'A+', 'B']\n",
    "df['Marks'] = df['Marks'] + 5  # Update column values\n"
   ]
  },
  {
   "cell_type": "code",
   "execution_count": null,
   "id": "0c51622e-42d4-48dc-b497-221bebd7cc58",
   "metadata": {},
   "outputs": [],
   "source": [
    "df.drop('Grade', axis=1, inplace=True)  # Drop column\n",
    "df.drop(1, axis=0, inplace=True)        # Drop row (index 1)\n"
   ]
  },
  {
   "cell_type": "code",
   "execution_count": null,
   "id": "a1005dbf-6e17-456f-a96f-eeebaddb613d",
   "metadata": {},
   "outputs": [],
   "source": [
    "print(df.sort_values(by='Marks', ascending=False))\n"
   ]
  },
  {
   "cell_type": "code",
   "execution_count": null,
   "id": "6a9290f9-b6e5-4075-a1a1-8e0a5f6f8c34",
   "metadata": {},
   "outputs": [],
   "source": [
    "df = pd.DataFrame({\n",
    "    'Name': ['A', 'B', None],\n",
    "    'Marks': [80, None, 75]\n",
    "})\n",
    "\n",
    "df.fillna('Unknown', inplace=True)\n",
    "df.dropna(inplace=True)\n"
   ]
  },
  {
   "cell_type": "code",
   "execution_count": null,
   "id": "2f4ecec4-1e7d-4bad-a37b-436071385603",
   "metadata": {},
   "outputs": [],
   "source": [
    "df = pd.DataFrame({\n",
    "    'Department': ['IT', 'IT', 'HR', 'HR'],\n",
    "    'Salary': [50000, 60000, 45000, 47000]\n",
    "})\n",
    "\n",
    "print(df.groupby('Department')['Salary'].mean())\n"
   ]
  },
  {
   "cell_type": "code",
   "execution_count": null,
   "id": "84af090f-0da8-4687-9869-32f6ed631d04",
   "metadata": {},
   "outputs": [],
   "source": [
    "df1 = pd.DataFrame({'ID': [1, 2], 'Name': ['A', 'B']})\n",
    "df2 = pd.DataFrame({'ID': [1, 2], 'Marks': [80, 90]})\n",
    "\n",
    "merged = pd.merge(df1, df2, on='ID')\n"
   ]
  },
  {
   "cell_type": "code",
   "execution_count": null,
   "id": "41dfad87-c48c-4e47-8683-db2ceb0e3bc3",
   "metadata": {},
   "outputs": [],
   "source": []
  },
  {
   "cell_type": "code",
   "execution_count": null,
   "id": "6292bc58-180a-44c2-924a-002be6ec8599",
   "metadata": {},
   "outputs": [],
   "source": []
  },
  {
   "cell_type": "code",
   "execution_count": null,
   "id": "5324e7c0-3880-49d8-9f07-d93a763396b1",
   "metadata": {},
   "outputs": [],
   "source": []
  },
  {
   "cell_type": "code",
   "execution_count": null,
   "id": "b9a28955-0353-4bc5-bfe9-e1df2e45d321",
   "metadata": {},
   "outputs": [],
   "source": []
  },
  {
   "cell_type": "code",
   "execution_count": null,
   "id": "ac866591-61a5-4ea5-b8b3-60c13fc531b0",
   "metadata": {},
   "outputs": [],
   "source": []
  },
  {
   "cell_type": "code",
   "execution_count": null,
   "id": "5d8d304b-e2b8-47d1-a1be-a600505f378c",
   "metadata": {},
   "outputs": [],
   "source": []
  },
  {
   "cell_type": "code",
   "execution_count": null,
   "id": "8a51f2fb-1729-472e-ba0b-29b46fcad7a1",
   "metadata": {},
   "outputs": [],
   "source": []
  },
  {
   "cell_type": "code",
   "execution_count": null,
   "id": "170d4be4-6d15-4f80-aa5c-fa79a6a09971",
   "metadata": {},
   "outputs": [],
   "source": []
  },
  {
   "cell_type": "code",
   "execution_count": null,
   "id": "8c8aea94-6644-4660-80d7-3a710f68f9c3",
   "metadata": {},
   "outputs": [],
   "source": []
  },
  {
   "cell_type": "code",
   "execution_count": null,
   "id": "f0c8dddf-6768-4603-b414-d11e4cd5ecea",
   "metadata": {},
   "outputs": [],
   "source": []
  },
  {
   "cell_type": "code",
   "execution_count": null,
   "id": "d6bfdafa-a8a3-4b73-993e-19399f8fa053",
   "metadata": {},
   "outputs": [],
   "source": []
  }
 ],
 "metadata": {
  "kernelspec": {
   "display_name": "Python 3 (ipykernel)",
   "language": "python",
   "name": "python3"
  },
  "language_info": {
   "codemirror_mode": {
    "name": "ipython",
    "version": 3
   },
   "file_extension": ".py",
   "mimetype": "text/x-python",
   "name": "python",
   "nbconvert_exporter": "python",
   "pygments_lexer": "ipython3",
   "version": "3.13.5"
  }
 },
 "nbformat": 4,
 "nbformat_minor": 5
}
