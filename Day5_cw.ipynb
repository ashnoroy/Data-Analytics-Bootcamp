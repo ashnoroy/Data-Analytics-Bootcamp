{
 "cells": [
  {
   "cell_type": "code",
   "execution_count": 1,
   "id": "0fff175f-b285-40b0-90ba-7788c036c1fd",
   "metadata": {},
   "outputs": [
    {
     "name": "stdout",
     "output_type": "stream",
     "text": [
      "[1, 2, 3, 4, 5, 6, 2]\n"
     ]
    }
   ],
   "source": [
    "#list (append)\n",
    "lst=[1,2,3,4,5,6]\n",
    "lst.append(2)\n",
    "print(lst)"
   ]
  },
  {
   "cell_type": "code",
   "execution_count": 2,
   "id": "3d1b1844-bdbc-4939-b1ff-c028f888da80",
   "metadata": {},
   "outputs": [
    {
     "name": "stdout",
     "output_type": "stream",
     "text": [
      "[3, 5, 50, 6, 7, 8, 9]\n"
     ]
    }
   ],
   "source": [
    "#using index to insert\n",
    "lst=[3,5,6,7,8,9]\n",
    "#name.insert(index , value)\n",
    "lst.insert(2,50)\n",
    "print(lst)"
   ]
  },
  {
   "cell_type": "code",
   "execution_count": 26,
   "id": "8a4ba3b1-b7bf-492d-8484-c46e013ed51a",
   "metadata": {},
   "outputs": [
    {
     "name": "stdout",
     "output_type": "stream",
     "text": [
      "[1, 2, 3, 4, 5, 1, 2]\n"
     ]
    }
   ],
   "source": [
    "# Extend\n",
    "a=[1,2,3,4,5]\n",
    "a.extend([1,2])\n",
    "print(a)"
   ]
  },
  {
   "cell_type": "code",
   "execution_count": 3,
   "id": "b55ada54-23f0-43e8-8eaf-f4beaff23f58",
   "metadata": {},
   "outputs": [
    {
     "name": "stdout",
     "output_type": "stream",
     "text": [
      "[1, 2, 4, 5]\n"
     ]
    }
   ],
   "source": [
    "# pop\n",
    "a=[1,2,3,4,5]\n",
    "a.pop(2)\n",
    "print(a)"
   ]
  },
  {
   "cell_type": "code",
   "execution_count": 6,
   "id": "889d9fe6-2215-41c4-af77-df1e8a30428f",
   "metadata": {},
   "outputs": [
    {
     "name": "stdout",
     "output_type": "stream",
     "text": [
      "[1, 3, 4, 5]\n"
     ]
    }
   ],
   "source": [
    "# remove\n",
    "a=[1,2,3,4,5]\n",
    "a.remove(2)\n",
    "print(a)"
   ]
  },
  {
   "cell_type": "code",
   "execution_count": 8,
   "id": "1241fa18-0315-42c3-b606-2c63da89b46f",
   "metadata": {},
   "outputs": [
    {
     "name": "stdout",
     "output_type": "stream",
     "text": [
      "[]\n"
     ]
    }
   ],
   "source": [
    "# clear\n",
    "a=[1,2,3,4,5]\n",
    "a.clear()\n",
    "print(a)"
   ]
  },
  {
   "cell_type": "code",
   "execution_count": 46,
   "id": "fa3159ce-ab55-4223-aefc-26e3f2bd0d6e",
   "metadata": {},
   "outputs": [
    {
     "name": "stdout",
     "output_type": "stream",
     "text": [
      "INDEX NUMBER: 4\n"
     ]
    }
   ],
   "source": [
    "# index\n",
    "a=[1,2,3,4,5]\n",
    "b= a.index(5)\n",
    "print(\"INDEX NUMBER:\", b)"
   ]
  },
  {
   "cell_type": "code",
   "execution_count": 48,
   "id": "544c75c2-4c34-47d0-a64d-2d1b6488154e",
   "metadata": {},
   "outputs": [
    {
     "name": "stdout",
     "output_type": "stream",
     "text": [
      "COUNT: 3\n"
     ]
    }
   ],
   "source": [
    "# count\n",
    "a=[1,2,3,4,2,5,2]\n",
    "b= a.count(2)\n",
    "print(\"COUNT:\",b)"
   ]
  },
  {
   "cell_type": "code",
   "execution_count": 23,
   "id": "da38be01-490a-403f-88f0-ccd62e6710bd",
   "metadata": {},
   "outputs": [
    {
     "name": "stdout",
     "output_type": "stream",
     "text": [
      "[5, 4, 3, 2, 1]\n"
     ]
    }
   ],
   "source": [
    "# sort\n",
    "a=[1,2,3,4,5]\n",
    "a.sort(reverse = 'true')\n",
    "print(a)"
   ]
  },
  {
   "cell_type": "code",
   "execution_count": 25,
   "id": "5298de55-e65f-4c61-8aa0-6175109226f5",
   "metadata": {},
   "outputs": [
    {
     "name": "stdout",
     "output_type": "stream",
     "text": [
      "[1, 2, 3, 4, 5]\n"
     ]
    }
   ],
   "source": [
    "# copy\n",
    "a=[1,2,3,4,5]\n",
    "a.copy()\n",
    "print(a)"
   ]
  },
  {
   "cell_type": "code",
   "execution_count": 28,
   "id": "780dfa28-52b5-4d85-a820-9225a978e393",
   "metadata": {},
   "outputs": [
    {
     "name": "stdin",
     "output_type": "stream",
     "text": [
      "Enter number:  2\n",
      "Enter number:  3\n",
      "Enter number:  4\n",
      "Enter number:  2\n",
      "Enter number:  3\n"
     ]
    },
    {
     "name": "stdout",
     "output_type": "stream",
     "text": [
      "Final list: [2, 3, 4, 2, 3]\n"
     ]
    }
   ],
   "source": [
    "# 1. Create an empty list and take 5 numbers as input from the user\n",
    "numbers = []\n",
    "for i in range(5):\n",
    "    num = int(input(\"Enter number: \"))\n",
    "    numbers.append(num)\n",
    "print(\"Final list:\", numbers)"
   ]
  },
  {
   "cell_type": "code",
   "execution_count": 37,
   "id": "be61515f-09bb-4acc-bed4-29dca5708c61",
   "metadata": {},
   "outputs": [
    {
     "name": "stdout",
     "output_type": "stream",
     "text": [
      "Extended list1: [1, 2, 3, 4, 5, 6]\n"
     ]
    }
   ],
   "source": [
    "# 2. Extend list1 using list2\n",
    "list1 = [1, 2, 3]\n",
    "list2 = [4, 5, 6]\n",
    "list1.extend(list2)\n",
    "print(\"Extended list1:\", list1)"
   ]
  },
  {
   "cell_type": "code",
   "execution_count": 38,
   "id": "3be16791-d7b3-4d45-91b1-e83c27cea638",
   "metadata": {},
   "outputs": [
    {
     "name": "stdout",
     "output_type": "stream",
     "text": [
      "After inserting 25 at index 2: [10, 20, 25, 30, 40]\n"
     ]
    }
   ],
   "source": [
    "# 3. Insert the value 25 at index 2\n",
    "l = [10, 20, 30, 40]\n",
    "l.insert(2, 25)\n",
    "print(\"After inserting 25 at index 2:\", l)"
   ]
  },
  {
   "cell_type": "code",
   "execution_count": 35,
   "id": "783bf662-f49b-4fad-80c0-5569cdd51f4b",
   "metadata": {},
   "outputs": [
    {
     "name": "stdout",
     "output_type": "stream",
     "text": [
      "After removing first occurrence of 20: [10, 30, 20, 40]\n"
     ]
    }
   ],
   "source": [
    "# 4. Remove the first occurrence of the value 20\n",
    "l = [10, 20, 30, 20, 40]\n",
    "l.remove(20)\n",
    "print(\"After removing first occurrence of 20:\", l)"
   ]
  },
  {
   "cell_type": "code",
   "execution_count": 32,
   "id": "df496446-b0ba-44b8-8efa-576c08f5045b",
   "metadata": {},
   "outputs": [
    {
     "name": "stdout",
     "output_type": "stream",
     "text": [
      "Popped item: 5\n",
      "Updated list after pop: [1, 2, 3, 4]\n"
     ]
    }
   ],
   "source": [
    "# 5. Pop the last element\n",
    "l = [1, 2, 3, 4, 5]\n",
    "popped_item = l.pop()\n",
    "print(\"Popped item:\", popped_item)\n",
    "print(\"Updated list after pop:\", l)"
   ]
  },
  {
   "cell_type": "code",
   "execution_count": 33,
   "id": "478fbbf2-7af8-4799-961b-cee15fddcc30",
   "metadata": {},
   "outputs": [
    {
     "name": "stdout",
     "output_type": "stream",
     "text": [
      "Index of 15: 2\n"
     ]
    }
   ],
   "source": [
    "# 6. Find the index of 15\n",
    "l = [5, 10, 15, 20, 25]\n",
    "index_15 = l.index(15)\n",
    "print(\"Index of 15:\", index_15)"
   ]
  },
  {
   "cell_type": "code",
   "execution_count": 34,
   "id": "64ce6e58-f5d1-4c57-b32d-d65813ebce0e",
   "metadata": {},
   "outputs": [
    {
     "name": "stdout",
     "output_type": "stream",
     "text": [
      "Number of times 2 appears: 4\n"
     ]
    }
   ],
   "source": [
    "# 7. Count how many times 2 appears\n",
    "l = [1, 2, 2, 3, 2, 4, 2]\n",
    "count_2 = l.count(2)\n",
    "print(\"Number of times 2 appears:\", count_2)"
   ]
  },
  {
   "cell_type": "code",
   "execution_count": 36,
   "id": "02a519b7-5435-4f0f-91f4-47a46af304a5",
   "metadata": {},
   "outputs": [
    {
     "name": "stdout",
     "output_type": "stream",
     "text": [
      "Ascending order: [3, 5, 7, 10]\n",
      "Descending order: [10, 7, 5, 3]\n"
     ]
    }
   ],
   "source": [
    "# 8. Sort the list in ascending and descending order\n",
    "l = [10, 5, 7, 3]\n",
    "asc = sorted(l)\n",
    "desc = sorted(l, reverse=True)\n",
    "print(\"Ascending order:\", asc)\n",
    "print(\"Descending order:\", desc)"
   ]
  },
  {
   "cell_type": "code",
   "execution_count": 39,
   "id": "b07aabc2-fa49-4514-8b3a-1c959248f914",
   "metadata": {},
   "outputs": [
    {
     "name": "stdout",
     "output_type": "stream",
     "text": [
      "Reversed list: [5, 4, 3, 2, 1]\n"
     ]
    }
   ],
   "source": [
    "# 9. Reverse the list using reverse()\n",
    "l = [1, 2, 3, 4, 5]\n",
    "l.reverse()\n",
    "print(\"Reversed list:\", l)"
   ]
  },
  {
   "cell_type": "code",
   "execution_count": 41,
   "id": "286e33f5-40f3-440a-b1b8-b4934c3aacdc",
   "metadata": {},
   "outputs": [
    {
     "name": "stdout",
     "output_type": "stream",
     "text": [
      "Original list: [1, 2, 3]\n",
      "Copied and modified list: [1, 2, 3, 4]\n"
     ]
    }
   ],
   "source": [
    "# 10. Copy a list and show original is unchanged\n",
    "original = [1, 2, 3]\n",
    "copy_l = original.copy()\n",
    "copy_l.append(4)\n",
    "print(\"Original list:\", original)\n",
    "print(\"Copied and modified list:\", copy_l)"
   ]
  },
  {
   "cell_type": "code",
   "execution_count": 64,
   "id": "651edf65-2339-42b5-b328-8462b2209500",
   "metadata": {},
   "outputs": [
    {
     "data": {
      "text/plain": [
       "[4, 9, 16]"
      ]
     },
     "execution_count": 64,
     "metadata": {},
     "output_type": "execute_result"
    }
   ],
   "source": [
    "#list comprehension\n",
    "[i**2 for i in [2,3,4]]"
   ]
  },
  {
   "cell_type": "code",
   "execution_count": 69,
   "id": "e20ff869-2f41-4431-be15-82ac455d94ad",
   "metadata": {},
   "outputs": [
    {
     "data": {
      "text/plain": [
       "3"
      ]
     },
     "execution_count": 69,
     "metadata": {},
     "output_type": "execute_result"
    }
   ],
   "source": [
    "d=tuple('a string with many \"a\" s')\n",
    "d.count('a')"
   ]
  },
  {
   "cell_type": "code",
   "execution_count": 73,
   "id": "f4b8959f-9d16-49e6-8c00-fb4ee01ed768",
   "metadata": {},
   "outputs": [
    {
     "name": "stdout",
     "output_type": "stream",
     "text": [
      "[0, 1, 2, 3]\n",
      "[4, 5, 6, 7, 8, 9]\n"
     ]
    }
   ],
   "source": [
    "#list slicing\n",
    "num= [0,1,2,3,4,5,6,7,8,9]\n",
    "print(num[0:4])\n",
    "print(num[4:])"
   ]
  },
  {
   "cell_type": "code",
   "execution_count": null,
   "id": "83e3ddbb-e5a8-48cb-aaed-fcc943e203eb",
   "metadata": {},
   "outputs": [],
   "source": [
    "#issubset, isdisjoint, issuperset\n",
    "#list always save with {}"
   ]
  },
  {
   "cell_type": "code",
   "execution_count": 82,
   "id": "d89e0fa7-c67f-42de-83ab-2c88844c9f06",
   "metadata": {},
   "outputs": [
    {
     "data": {
      "text/plain": [
       "False"
      ]
     },
     "execution_count": 82,
     "metadata": {},
     "output_type": "execute_result"
    }
   ],
   "source": [
    "set1= {1,3,4,2,}\n",
    "set2= {1,4,7,4}\n",
    "set1.issubset(set2)"
   ]
  },
  {
   "cell_type": "code",
   "execution_count": null,
   "id": "da074488-bd40-4f25-9ab0-6bca5d719dab",
   "metadata": {},
   "outputs": [],
   "source": []
  },
  {
   "cell_type": "code",
   "execution_count": null,
   "id": "3fd8b0bd-e034-4c90-ab5d-3d540f8328ba",
   "metadata": {},
   "outputs": [],
   "source": []
  }
 ],
 "metadata": {
  "kernelspec": {
   "display_name": "Python 3 (ipykernel)",
   "language": "python",
   "name": "python3"
  },
  "language_info": {
   "codemirror_mode": {
    "name": "ipython",
    "version": 3
   },
   "file_extension": ".py",
   "mimetype": "text/x-python",
   "name": "python",
   "nbconvert_exporter": "python",
   "pygments_lexer": "ipython3",
   "version": "3.13.5"
  }
 },
 "nbformat": 4,
 "nbformat_minor": 5
}
