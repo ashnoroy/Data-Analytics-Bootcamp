{
 "cells": [
  {
   "cell_type": "code",
   "execution_count": null,
   "id": "20eebdc2-6e43-4456-bd58-10c3ba259c5a",
   "metadata": {},
   "outputs": [],
   "source": [
    "#Major project 2"
   ]
  },
  {
   "cell_type": "code",
   "execution_count": 8,
   "id": "e5b358c3-1c21-421b-b543-17f4c8154acc",
   "metadata": {},
   "outputs": [
    {
     "name": "stdout",
     "output_type": "stream",
     "text": [
      "Available Products:\n",
      "ID: 61, Name: 8 PM, Price: ₹500.0\n",
      "ID: 62, Name: antiquity blue, Price: ₹1200.0\n",
      "ID: 63, Name: chicken, Price: ₹300.0\n"
     ]
    },
    {
     "name": "stdin",
     "output_type": "stream",
     "text": [
      "Enter Product ID (or type 'done' to finish):  61\n",
      "Enter quantity:  3\n"
     ]
    },
    {
     "name": "stdout",
     "output_type": "stream",
     "text": [
      "Product ID 61 added to cart (Quantity: 3)\n"
     ]
    },
    {
     "name": "stdin",
     "output_type": "stream",
     "text": [
      "Enter Product ID (or type 'done' to finish):  64\n",
      "Enter quantity:  2\n"
     ]
    },
    {
     "name": "stdout",
     "output_type": "stream",
     "text": [
      "Product ID 64 added to cart (Quantity: 2)\n"
     ]
    },
    {
     "name": "stdin",
     "output_type": "stream",
     "text": [
      "Enter Product ID (or type 'done' to finish):  done\n"
     ]
    },
    {
     "name": "stdout",
     "output_type": "stream",
     "text": [
      "Cart Summary:\n",
      "8 PM - ₹500.0 x 3 = ₹1500.0\n",
      "\n",
      " Total Bill: ₹ 1500.0\n",
      "Cart cleared.\n"
     ]
    }
   ],
   "source": [
    "import sqlite3\n",
    "\n",
    "conn = sqlite3.connect('shopping.db')\n",
    "cursor = conn.cursor()\n",
    "\n",
    "cursor.execute('''\n",
    "CREATE TABLE IF NOT EXISTS products (\n",
    "    id INTEGER PRIMARY KEY AUTOINCREMENT,\n",
    "    name TEXT NOT NULL,\n",
    "    price REAL NOT NULL\n",
    ")\n",
    "''')\n",
    "\n",
    "cursor.execute('''\n",
    "CREATE TABLE IF NOT EXISTS cart (\n",
    "    product_id INTEGER,\n",
    "    quantity INTEGER,\n",
    "    FOREIGN KEY(product_id) REFERENCES products(id)\n",
    ")\n",
    "''')\n",
    "\n",
    "conn.commit()\n",
    "\n",
    "def add_product(name, price):\n",
    "    cursor.execute(\"INSERT INTO products (name, price) VALUES (?, ?)\", (name, price))\n",
    "    conn.commit()\n",
    "    print(f\"Product '{name}' added successfully.\")\n",
    "\n",
    "def view_products():\n",
    "    cursor.execute(\"SELECT * FROM products\")\n",
    "    rows = cursor.fetchall()\n",
    "    print(\"Available Products:\")\n",
    "    for row in rows:\n",
    "        print(f\"ID: {row[0]}, Name: {row[1]}, Price: ₹{row[2]}\")\n",
    "\n",
    "def add_to_cart(product_id, quantity):\n",
    "    cursor.execute(\"INSERT INTO cart (product_id, quantity) VALUES (?, ?)\", (product_id, quantity))\n",
    "    conn.commit()\n",
    "    print(f\"Product ID {product_id} added to cart (Quantity: {quantity})\")\n",
    "\n",
    "def view_cart_and_bill():\n",
    "    cursor.execute('''\n",
    "        SELECT p.name, p.price, c.quantity, p.price * c.quantity as total\n",
    "        FROM cart c\n",
    "        JOIN products p ON c.product_id = p.id\n",
    "    ''')\n",
    "    rows = cursor.fetchall()\n",
    "    if not rows:\n",
    "        print(\"Your cart is empty.\")\n",
    "        return\n",
    "    \n",
    "    grand_total = 0\n",
    "    print(\"Cart Summary:\")\n",
    "    for name, price, qty, total in rows:\n",
    "        print(f\"{name} - ₹{price} x {qty} = ₹{total}\")\n",
    "        grand_total += total\n",
    "    print(\"\\n Total Bill: ₹\", grand_total)\n",
    "\n",
    "def clear_cart():\n",
    "    cursor.execute(\"DELETE FROM cart\")\n",
    "    conn.commit()\n",
    "    print(\"Cart cleared.\")\n",
    "\n",
    "view_products()\n",
    "\n",
    "# (add only once)\n",
    "#add_product(\"8 PM\", 500)\n",
    "#add_product(\"antiquity blue\", 1200)\n",
    "#add_product(\"chicken\", 300)\n",
    "\n",
    "while True:\n",
    "    product_id = input(\"Enter Product ID (or type 'done' to finish): \")\n",
    "    if product_id.lower() == 'done':\n",
    "        break\n",
    "    quantity = input(\"Enter quantity: \")\n",
    "    add_to_cart(int(product_id), int(quantity))\n",
    "\n",
    "view_cart_and_bill()\n",
    "\n",
    "clear_cart()"
   ]
  }
 ],
 "metadata": {
  "kernelspec": {
   "display_name": "Python 3 (ipykernel)",
   "language": "python",
   "name": "python3"
  },
  "language_info": {
   "codemirror_mode": {
    "name": "ipython",
    "version": 3
   },
   "file_extension": ".py",
   "mimetype": "text/x-python",
   "name": "python",
   "nbconvert_exporter": "python",
   "pygments_lexer": "ipython3",
   "version": "3.13.5"
  }
 },
 "nbformat": 4,
 "nbformat_minor": 5
}
