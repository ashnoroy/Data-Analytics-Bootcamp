{
 "cells": [
  {
   "cell_type": "code",
   "execution_count": null,
   "id": "47f1f79b-02a3-4af3-bd9e-d02f1966fabb",
   "metadata": {},
   "outputs": [],
   "source": [
    "#set methods"
   ]
  },
  {
   "cell_type": "code",
   "execution_count": 4,
   "id": "690a0e32-0ff9-4e83-9a50-ec32efb1eb78",
   "metadata": {},
   "outputs": [
    {
     "name": "stdout",
     "output_type": "stream",
     "text": [
      "{1, 2, 3}\n"
     ]
    }
   ],
   "source": [
    "#union set\n",
    "a = {1, 2}\n",
    "b = {2, 3}\n",
    "c = a.union(b)\n",
    "print(c)"
   ]
  },
  {
   "cell_type": "code",
   "execution_count": 7,
   "id": "e40a9e70-e30c-44ac-8464-850fdfd0d574",
   "metadata": {},
   "outputs": [
    {
     "name": "stdout",
     "output_type": "stream",
     "text": [
      "{2}\n"
     ]
    }
   ],
   "source": [
    "#Intersection set\n",
    "a = {1, 2}\n",
    "b = {2, 3}\n",
    "c = a.intersection(b)\n",
    "print(c)"
   ]
  },
  {
   "cell_type": "code",
   "execution_count": 8,
   "id": "f99d8e59-fee0-495c-b652-54e1275bdcdb",
   "metadata": {},
   "outputs": [
    {
     "name": "stdout",
     "output_type": "stream",
     "text": [
      "{1, 3}\n"
     ]
    }
   ],
   "source": [
    "#Difference set\n",
    "a = {1, 2, 3}\n",
    "b = {2, 4}\n",
    "c = a.difference(b)\n",
    "print(c)"
   ]
  },
  {
   "cell_type": "code",
   "execution_count": 9,
   "id": "f1870a03-2677-4aaf-b068-e536c904c7dd",
   "metadata": {},
   "outputs": [
    {
     "name": "stdout",
     "output_type": "stream",
     "text": [
      "{1, 3, 4}\n"
     ]
    }
   ],
   "source": [
    "#symmetric difference set\n",
    "a = {1, 2, 3}\n",
    "b = {2, 4}\n",
    "c = a.symmetric_difference(b)\n",
    "print(c)"
   ]
  },
  {
   "cell_type": "code",
   "execution_count": 13,
   "id": "db0f0dfd-ebeb-4e04-9255-a7603d027777",
   "metadata": {},
   "outputs": [
    {
     "data": {
      "text/plain": [
       "False"
      ]
     },
     "execution_count": 13,
     "metadata": {},
     "output_type": "execute_result"
    }
   ],
   "source": [
    "#isSubset\n",
    "set1= {1,3,4,2,}\n",
    "set2= {1,4,7,4}\n",
    "set1.issubset(set2)"
   ]
  },
  {
   "cell_type": "code",
   "execution_count": 14,
   "id": "8fa73048-9197-42d5-b3a8-86ace6e1e928",
   "metadata": {},
   "outputs": [
    {
     "data": {
      "text/plain": [
       "True"
      ]
     },
     "execution_count": 14,
     "metadata": {},
     "output_type": "execute_result"
    }
   ],
   "source": [
    "#isdisjoint\n",
    "a = {1, 2}\n",
    "b = {3, 4}\n",
    "a.isdisjoint(b)"
   ]
  },
  {
   "cell_type": "code",
   "execution_count": 15,
   "id": "b9f98707-196e-427d-a165-122ac9575425",
   "metadata": {},
   "outputs": [
    {
     "data": {
      "text/plain": [
       "True"
      ]
     },
     "execution_count": 15,
     "metadata": {},
     "output_type": "execute_result"
    }
   ],
   "source": [
    "#issuperset\n",
    "a = {1, 2, 3}\n",
    "b = {1, 2}\n",
    "a.issuperset(b)"
   ]
  },
  {
   "cell_type": "code",
   "execution_count": 34,
   "id": "3b15402d-e1b8-47af-9fe6-5a6bc1fcdbee",
   "metadata": {},
   "outputs": [
    {
     "name": "stdout",
     "output_type": "stream",
     "text": [
      "{1, 2, 3, 4}\n"
     ]
    }
   ],
   "source": [
    "#add\n",
    "a = set([1, 2, 3])\n",
    "a.add(4)\n",
    "print(a)"
   ]
  },
  {
   "cell_type": "code",
   "execution_count": 41,
   "id": "c86bf887-97e5-4ef7-8192-acd711dcc034",
   "metadata": {},
   "outputs": [
    {
     "name": "stdout",
     "output_type": "stream",
     "text": [
      "{2, 3, 4}\n"
     ]
    }
   ],
   "source": [
    "#pop\n",
    "a = {1,2,3,4}\n",
    "a.pop()\n",
    "print(a)"
   ]
  },
  {
   "cell_type": "code",
   "execution_count": 29,
   "id": "7d5ac1ed-2bf6-4e72-8012-deaf447a4e94",
   "metadata": {},
   "outputs": [],
   "source": [
    "#dictionary methods"
   ]
  },
  {
   "cell_type": "code",
   "execution_count": 23,
   "id": "2440d66a-4f9c-4f9d-903b-99a722929c8d",
   "metadata": {},
   "outputs": [
    {
     "name": "stdout",
     "output_type": "stream",
     "text": [
      "{}\n"
     ]
    }
   ],
   "source": [
    "#clear\n",
    "d = {'a': 1, 'b': 2}\n",
    "d.clear()\n",
    "print(d)"
   ]
  },
  {
   "cell_type": "code",
   "execution_count": 40,
   "id": "ec7113be-56ac-4327-b97b-9ec3fe746e2a",
   "metadata": {},
   "outputs": [
    {
     "name": "stdout",
     "output_type": "stream",
     "text": [
      "{'a': 1}\n"
     ]
    }
   ],
   "source": [
    "#copy\n",
    "d = {'a': 1}\n",
    "e = d.copy()\n",
    "print(e)"
   ]
  },
  {
   "cell_type": "code",
   "execution_count": 57,
   "id": "61c4b2fb-82cc-48dd-afba-89c70a924343",
   "metadata": {},
   "outputs": [
    {
     "data": {
      "text/plain": [
       "dict_keys(['a'])"
      ]
     },
     "execution_count": 57,
     "metadata": {},
     "output_type": "execute_result"
    }
   ],
   "source": [
    "#keys\n",
    "d = {'a': 1}\n",
    "d.keys()"
   ]
  },
  {
   "cell_type": "code",
   "execution_count": 56,
   "id": "d44b8881-a5bf-4c21-9206-3d5a0f91b65f",
   "metadata": {},
   "outputs": [
    {
     "data": {
      "text/plain": [
       "dict_items([('b', 10)])"
      ]
     },
     "execution_count": 56,
     "metadata": {},
     "output_type": "execute_result"
    }
   ],
   "source": [
    "#items()\n",
    "d = {'b': 10}\n",
    "d.items()"
   ]
  },
  {
   "cell_type": "code",
   "execution_count": 51,
   "id": "124a3c14-940b-4ec6-9c0c-ad944ac6af4e",
   "metadata": {},
   "outputs": [
    {
     "name": "stdout",
     "output_type": "stream",
     "text": [
      "{'a': 0, 'b': 0}\n"
     ]
    }
   ],
   "source": [
    "#fromkeys(seq, value=None)\n",
    "keys = ['a', 'b']\n",
    "d = dict.fromkeys(keys, 0)\n",
    "print(d)"
   ]
  },
  {
   "cell_type": "code",
   "execution_count": 52,
   "id": "bbc896f4-1bca-4c7a-9377-c6c3f814f4b1",
   "metadata": {},
   "outputs": [
    {
     "data": {
      "text/plain": [
       "1"
      ]
     },
     "execution_count": 52,
     "metadata": {},
     "output_type": "execute_result"
    }
   ],
   "source": [
    "#get(key, default=None)\n",
    "d = {'a': 1}\n",
    "d.get('a')"
   ]
  },
  {
   "cell_type": "code",
   "execution_count": 58,
   "id": "8c301fd5-3120-4d62-8dbc-24cf8b7820ae",
   "metadata": {},
   "outputs": [
    {
     "data": {
      "text/plain": [
       "dict_values([57])"
      ]
     },
     "execution_count": 58,
     "metadata": {},
     "output_type": "execute_result"
    }
   ],
   "source": [
    "#values\n",
    "d = {'a': 57}\n",
    "d.values()"
   ]
  },
  {
   "cell_type": "code",
   "execution_count": 64,
   "id": "066c0944-6fd9-4cc0-89bb-aadd80947a2a",
   "metadata": {},
   "outputs": [
    {
     "data": {
      "text/plain": [
       "34"
      ]
     },
     "execution_count": 64,
     "metadata": {},
     "output_type": "execute_result"
    }
   ],
   "source": [
    "# pop(key, default)\n",
    "d = {'a': 10, 'b': 5, 'c' : 34}\n",
    "d.pop('c')"
   ]
  },
  {
   "cell_type": "code",
   "execution_count": 67,
   "id": "1c423569-2d0e-41ec-9bc0-c2a38b5651f7",
   "metadata": {},
   "outputs": [
    {
     "data": {
      "text/plain": [
       "('b', 2)"
      ]
     },
     "execution_count": 67,
     "metadata": {},
     "output_type": "execute_result"
    }
   ],
   "source": [
    "#popitem\n",
    "d = {'a': 1, 'b': 2}\n",
    "d.popitem()"
   ]
  },
  {
   "cell_type": "code",
   "execution_count": 73,
   "id": "49850fd7-25b0-41f9-bbd3-f28a1536a0b4",
   "metadata": {},
   "outputs": [
    {
     "data": {
      "text/plain": [
       "4"
      ]
     },
     "execution_count": 73,
     "metadata": {},
     "output_type": "execute_result"
    }
   ],
   "source": [
    "#setdefault(key, default=None)\n",
    "d = {'a': 23}\n",
    "d.setdefault('c',4)"
   ]
  },
  {
   "cell_type": "code",
   "execution_count": 75,
   "id": "65e0b501-c2d5-48ac-a661-e45cf66e106a",
   "metadata": {},
   "outputs": [
    {
     "name": "stdout",
     "output_type": "stream",
     "text": [
      "{'a': 1, 'b': 2}\n"
     ]
    }
   ],
   "source": [
    "#update([other])\n",
    "d = {'a': 1, 'b':3}\n",
    "d.update({'b': 2})\n",
    "print(d)"
   ]
  },
  {
   "cell_type": "code",
   "execution_count": null,
   "id": "8a1fb1da-7a66-40cc-a7da-ab51b09eebe5",
   "metadata": {},
   "outputs": [],
   "source": [
    "#practice"
   ]
  },
  {
   "cell_type": "code",
   "execution_count": 81,
   "id": "131fc9db-bbc4-424a-ada2-3b9fbd2a0a3b",
   "metadata": {},
   "outputs": [
    {
     "name": "stdin",
     "output_type": "stream",
     "text": [
      "Enter number 1:  3\n",
      "Enter number 2:  5\n",
      "Enter number 3:  56\n",
      "Enter number 4:  45\n",
      "Enter number 5:  6\n",
      "Enter number 6:  5\n",
      "Enter number 7:  46\n",
      "Enter number 8:  6\n",
      "Enter number 9:  54\n",
      "Enter number 10:  56\n"
     ]
    },
    {
     "name": "stdout",
     "output_type": "stream",
     "text": [
      "Second largest number is: 56\n"
     ]
    }
   ],
   "source": [
    "#Write a program to take a list of 10 integers as input and print the second largest number using list methods.\n",
    "nums = []\n",
    "for i in range(10):\n",
    "    num = int(input(f\"Enter number {i+1}: \"))\n",
    "    nums.append(num)\n",
    "\n",
    "nums.sort()\n",
    "print(\"Second largest number is:\", nums[-2])"
   ]
  },
  {
   "cell_type": "code",
   "execution_count": 86,
   "id": "ab9f0812-aec0-4efc-9837-50e94a810677",
   "metadata": {},
   "outputs": [
    {
     "name": "stdin",
     "output_type": "stream",
     "text": [
      "Enter numbers separated by space:  4 7 5 4 3 \n"
     ]
    },
    {
     "name": "stdout",
     "output_type": "stream",
     "text": [
      "List after removing even numbers: [7, 5, 3]\n"
     ]
    }
   ],
   "source": [
    "#Write a program to remove all even numbers from a list of integers and print the updated list.\n",
    "nums = input(\"Enter numbers separated by space: \").split()\n",
    "int_nums = []\n",
    "for n in nums:\n",
    "    int_nums.append(int(n))\n",
    "updated = []\n",
    "for n in int_nums:\n",
    "    if n % 2 != 0:\n",
    "        updated.append(n)\n",
    "print(\"List after removing even numbers:\", updated)"
   ]
  },
  {
   "cell_type": "code",
   "execution_count": 85,
   "id": "caaa1890-1e4f-45ef-ae39-0e81b4e02d71",
   "metadata": {},
   "outputs": [
    {
     "name": "stdin",
     "output_type": "stream",
     "text": [
      "Enter a student name to remove:  Bob\n"
     ]
    },
    {
     "name": "stdout",
     "output_type": "stream",
     "text": [
      "Bob removed.\n",
      "Updated list: ['Roy', 'Dua', 'Hanigan', 'Eva']\n"
     ]
    }
   ],
   "source": [
    "#Create a list of student names. Ask the user to enter a name, and remove that name from the list if it exists.\n",
    "students = ['Roy', 'Bob', 'Dua', 'Hanigan', 'Eva']\n",
    "name = input(\"Enter a student name to remove: \")\n",
    "if name in students:\n",
    "    students.remove(name)\n",
    "    print(f\"{name} removed.\")\n",
    "else:\n",
    "    print(f\"{name} not found.\")\n",
    "print(\"Updated list:\", students)"
   ]
  },
  {
   "cell_type": "code",
   "execution_count": 87,
   "id": "39ab808a-6d96-4daa-a121-50c93960cde6",
   "metadata": {},
   "outputs": [
    {
     "name": "stdin",
     "output_type": "stream",
     "text": [
      "Enter a number to remove:  4\n"
     ]
    },
    {
     "name": "stdout",
     "output_type": "stream",
     "text": [
      "Number found at index 0 and removed.\n",
      "Updated list: [7, 2, 9, 5, 3]\n"
     ]
    }
   ],
   "source": [
    "#Create a list of numbers. Ask the user to enter a number. If it exists, print its index and remove it from the list.\n",
    "nums = [4, 7, 2, 9, 5, 3]\n",
    "n = int(input(\"Enter a number to remove: \"))\n",
    "if n in nums:\n",
    "    index = nums.index(n)\n",
    "    nums.remove(n)\n",
    "    print(f\"Number found at index {index} and removed.\")\n",
    "else:\n",
    "    print(\"Number not found.\")\n",
    "print(\"Updated list:\", nums)"
   ]
  },
  {
   "cell_type": "code",
   "execution_count": 89,
   "id": "8c83f6b8-bddb-449d-b3f1-c6946504d585",
   "metadata": {},
   "outputs": [
    {
     "name": "stdout",
     "output_type": "stream",
     "text": [
      "Sorted list: ['apple', 'banana', 'cherry', 'date', 'grape']\n"
     ]
    }
   ],
   "source": [
    "#Create a list of 5 strings. Sort the list in alphabetical order using the sort() method.\n",
    "words = [\"banana\", \"apple\", \"cherry\", \"date\", \"grape\"]\n",
    "words.sort()\n",
    "print(\"Sorted list:\", words)"
   ]
  },
  {
   "cell_type": "code",
   "execution_count": 91,
   "id": "34063081-f4b1-4794-9b22-b0ae6529f4df",
   "metadata": {},
   "outputs": [
    {
     "name": "stdout",
     "output_type": "stream",
     "text": [
      "'python' appears 3 times.\n"
     ]
    }
   ],
   "source": [
    "#Write a program that counts how many times the word \"python\" appears in a list of words.\n",
    "words = [\"python\", \"java\", \"python\", \"c++\", \"python\", \"ruby\"]\n",
    "count = words.count(\"python\")\n",
    "print(f\"'python' appears {count} times.\")"
   ]
  },
  {
   "cell_type": "code",
   "execution_count": 92,
   "id": "21f17ea7-b062-4090-9f86-3e0f20058e8d",
   "metadata": {},
   "outputs": [
    {
     "name": "stdout",
     "output_type": "stream",
     "text": [
      "Original list: [1, 2, 3, 4]\n",
      "Copied list: [1, 2, 3, 4, 5]\n"
     ]
    }
   ],
   "source": [
    "#Make a copy of a list using the copy() method. Then modify the copied list and show that the original list is unchanged.\n",
    "original = [1, 2, 3, 4]\n",
    "copied = original.copy()\n",
    "copied.append(5)\n",
    "print(\"Original list:\", original)\n",
    "print(\"Copied list:\", copied)"
   ]
  },
  {
   "cell_type": "code",
   "execution_count": 98,
   "id": "099dc9c5-d1eb-4104-91f0-533a8c061cc9",
   "metadata": {},
   "outputs": [
    {
     "name": "stdout",
     "output_type": "stream",
     "text": [
      "Updated list: [10, 20, 30, 1010, 40, 50, 60, 70]\n"
     ]
    }
   ],
   "source": [
    "#Take a list of 7 numbers. Insert a number at the middle index using the insert() method.\n",
    "nums = [10, 20, 30, 40, 50, 60, 70]\n",
    "mid_index = len(nums) // 2\n",
    "nums.insert(mid_index, 1010)\n",
    "print(\"Updated list:\", nums)"
   ]
  },
  {
   "cell_type": "code",
   "execution_count": 99,
   "id": "bf392a4d-e6b1-42bb-935e-357873acf8b7",
   "metadata": {},
   "outputs": [
    {
     "name": "stdout",
     "output_type": "stream",
     "text": [
      "Popped: 5\n",
      "Popped: 4\n",
      "Popped: 3\n",
      "Popped: 2\n",
      "Popped: 1\n"
     ]
    }
   ],
   "source": [
    "#Create a list and use pop() to remove elements one by one until the list becomes empty. Print each popped element.\n",
    "items = [1, 2, 3, 4, 5]\n",
    "while items:\n",
    "    popped = items.pop()\n",
    "    print(\"Popped:\", popped)"
   ]
  },
  {
   "cell_type": "code",
   "execution_count": 100,
   "id": "64d4fe84-8063-447c-b13c-fe315509ef57",
   "metadata": {},
   "outputs": [
    {
     "name": "stdout",
     "output_type": "stream",
     "text": [
      "Unique elements: [1, 3, 5]\n"
     ]
    }
   ],
   "source": [
    "#Create a list of numbers and display only the unique elements using count() method logic (no set used).\n",
    "nums = [1, 2, 2, 3, 4, 4, 5, 6, 6]\n",
    "unique = [x for x in nums if nums.count(x) == 1]\n",
    "print(\"Unique elements:\", unique)"
   ]
  },
  {
   "cell_type": "code",
   "execution_count": null,
   "id": "050204f7-b4c8-416c-8c67-5a648838f7c3",
   "metadata": {},
   "outputs": [],
   "source": []
  }
 ],
 "metadata": {
  "kernelspec": {
   "display_name": "Python 3 (ipykernel)",
   "language": "python",
   "name": "python3"
  },
  "language_info": {
   "codemirror_mode": {
    "name": "ipython",
    "version": 3
   },
   "file_extension": ".py",
   "mimetype": "text/x-python",
   "name": "python",
   "nbconvert_exporter": "python",
   "pygments_lexer": "ipython3",
   "version": "3.13.5"
  }
 },
 "nbformat": 4,
 "nbformat_minor": 5
}
